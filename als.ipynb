{
 "cells": [
  {
   "cell_type": "code",
   "execution_count": 2,
   "id": "e5b52485",
   "metadata": {},
   "outputs": [
    {
     "name": "stderr",
     "output_type": "stream",
     "text": [
      "/usr/local/lib/python3.9/site-packages/tqdm/auto.py:22: TqdmWarning: IProgress not found. Please update jupyter and ipywidgets. See https://ipywidgets.readthedocs.io/en/stable/user_install.html\n",
      "  from .autonotebook import tqdm as notebook_tqdm\n"
     ]
    }
   ],
   "source": [
    "from utils import load_data\n",
    "import pandas as pd\n",
    "import numpy as np\n",
    "from scipy import sparse\n",
    "import implicit\n",
    "from sklearn.model_selection import train_test_split\n",
    "from implicit import evaluation\n",
    "import matplotlib.pyplot as plt"
   ]
  },
  {
   "cell_type": "code",
   "execution_count": 3,
   "id": "4be55210",
   "metadata": {},
   "outputs": [],
   "source": [
    "df = load_data(\"./active1000\")\n",
    "df[\"time\"] = df[\"time\"].apply(\n",
    "    lambda date: pd.Timestamp(date, unit=\"s\", tz=\"Europe/Oslo\")\n",
    ")\n",
    "df.drop(index=df[df.url == \"http://adressa.no\"].index, inplace=True)\n"
   ]
  },
  {
   "cell_type": "code",
   "execution_count": 4,
   "id": "7b6116ac",
   "metadata": {},
   "outputs": [
    {
     "name": "stdout",
     "output_type": "stream",
     "text": [
      "Matrix created with 1000 users and 679355 items\n"
     ]
    }
   ],
   "source": [
    "def dataframe_to_user_item_matrix(df):\n",
    "    df = df.drop_duplicates(subset=['userId', 'documentId'])\n",
    "    df = df.sort_values(by=['userId', 'time'])\n",
    "\n",
    "    n_users = df['userId'].nunique()\n",
    "    n_items = df['documentId'].count()\n",
    "\n",
    "    ratings = np.zeros((n_users, n_items))\n",
    "\n",
    "    new_user = df['userId'].values[1:] != df['userId'].values[:-1]\n",
    "    new_user = np.r_[True, new_user]\n",
    "\n",
    "    df['uid'] = np.cumsum(new_user)\n",
    "    item_ids = df['documentId'].unique().tolist()\n",
    "\n",
    "    new_df = pd.DataFrame({'documentId': item_ids, 'tid': range(1, len(item_ids) + 1)})\n",
    "\n",
    "    df = pd.merge(df, new_df, on='documentId', how='outer')\n",
    "    user_id_document_df = df[['documentId', 'uid', 'userId']]\n",
    "    df_ext = df[['uid', 'tid']]\n",
    "\n",
    "    users_df = df[\"uid\"].unique()\n",
    "    user_indexes = set()\n",
    "\n",
    "    for row in df_ext.itertuples():\n",
    "        ratings[row[1] - 1, row[2] - 1] = 1.0\n",
    "\n",
    "        if row[1] in users_df:\n",
    "            user_indexes.add(row[1] - 1)\n",
    "\n",
    "    print(f\"Matrix created with {ratings.shape[0]} users and {ratings.shape[1]} items\")\n",
    "    return ratings, user_indexes, item_ids, user_id_document_df\n",
    "\n",
    "user_item_data, user_indexes, item_ids, user_id_document_df = dataframe_to_user_item_matrix(df)\n",
    "\n",
    "user_item_sparse_matrix = sparse.csr_matrix(user_item_data)\n",
    "train_data, test_data = train_test_split(user_item_sparse_matrix, random_state=23, test_size=0.25)"
   ]
  },
  {
   "cell_type": "code",
   "execution_count": 8,
   "id": "4abfa60a",
   "metadata": {},
   "outputs": [
    {
     "name": "stderr",
     "output_type": "stream",
     "text": [
      "/usr/local/lib/python3.9/site-packages/implicit/utils.py:26: UserWarning: OpenBLAS detected. Its highly recommend to set the environment variable 'export OPENBLAS_NUM_THREADS=1' to disable its internal multithreading\n",
      "  warnings.warn(\n",
      "100%|██████████| 15/15 [00:05<00:00,  3.00it/s]\n"
     ]
    }
   ],
   "source": [
    "'''\n",
    "fit the model to the training data. factors is set to 50\n",
    "'''\n",
    "model = implicit.als.AlternatingLeastSquares(factors=50)\n",
    "model.fit(train_data)"
   ]
  },
  {
   "cell_type": "code",
   "execution_count": 5,
   "id": "87b1e004",
   "metadata": {},
   "outputs": [
    {
     "name": "stdout",
     "output_type": "stream",
     "text": [
      "[('aa6a5862cb2ae9fb8996f35a692192559b9083e1', 0.75877434), ('0a8c6555c75b8fd530be97356c8b62f6a6a4ad83', 0.7360717), ('cd625da5a4f18ba4912ce7c6a50340b364c2c7f1', 0.70930266), ('1ae48cc9bf00e7a94c6fb70e7beb74ee9b926998', 0.69789636), ('0bad5f842d38601fe714f625d46be941fb27f28c', 0.63664675), ('50c3b54c898d2c76681b4e4c02bad53b7a26b01b', 0.6297213), ('01e4d502d724e6206166c33c0ad50a456282124f', 0.61498), ('3580bacc6ca0f02842dedb898871778b4b264c9a', 0.595241), ('c5662a24bd7ed7754ca53afb4c5a1df6c60ab16b', 0.5882504), ('701d08c9626c66acf1bdb39454c3c3de4db5c8e1', 0.5851725), ('37bcd74a9f1aafaec15b4e01870c694636076147', 0.5828407), ('2febaa0c1a2bb66a3dda745c33ba3da7cc81a55b', 0.5666533), ('e9a8deeda6a04df6afb887619a3a1880250aed7a', 0.565036), ('60a5adfd53e73e44d1fdd9ed07c890879640b2e6', 0.564848), ('b9ad78ebb5acf15b97a2172aae104903e2a41afe', 0.5637803), ('6c2478c824124ec8060a58be8175b2bc6f4ce7b1', 0.5611747), ('55cb612b1b7f09e817909fb95156ef74f1711b70', 0.5585067), ('87497bca5ef49ff1ae7bbf31c6b8286bd6c27bf8', 0.5577117), ('7b37701ba1916986c0d63c074df278f9ea9117cb', 0.5565436), ('a4108a6448e235d895c62807f493d918a9b8125e', 0.5555275), ('2ba425ed450c17c98bb10837f6ab902dd3e4df6d', 0.5545563), ('794793820080e2f3949a4a8209de055297004031', 0.5525006), ('594d6458ecbd19fbb0657314bb5c742606ef57b9', 0.5465334), ('fa3f4c9983712f837925cbfe9bd096d09143a2ac', 0.544233), ('82bab6b33d01bf5c93200ba51fc84283c18da102', 0.54343235), ('f1846d55be374246d0b9a76e0027936642ca3f1a', 0.5419183), ('d41b9ed04e0cc086481afe72042bf6e636298d0b', 0.54184127), ('b85abfb0937cf948a48ca22758a4e03407bc3fcc', 0.54150766), ('a1085cc32a1a03b2c1cb32965afe44440af5b2a1', 0.53170335), ('ffe7344b2550c475de286de0f34da337b1af1851', 0.52564055), ('313a73912efab2d1be6d24c6a49cf0562e814d59', 0.52558446), ('dd5cc5ad8c5152fb52600d741fc0f6174a93c8bb', 0.52495843), ('a1a02c839557bccfec9b32970e26786836d4f837', 0.52287954), ('ec2d7611b28597d8deb98492e1573af27961e6e1', 0.5226889), ('ac5205a07fdf4c863910b102fb7e59dc50cbd440', 0.5171105), ('0867dbb33bb90970ae48592057be34246a0124ac', 0.51333475), ('92cf23b4733e4ce19f012cbf2a0db25b0a7dd02f', 0.51286674), ('b16b516eefb647edec256ad2f9b2c7a897b9785b', 0.5093716), ('1e78b84f637a2032210f638c1e0242821f6d2510', 0.50616515), ('b6906e4319f5575711df3a724bcb2c243a35fb0e', 0.5059985), ('bab39a1d4fd29deae96bea496e03f460a4569fa5', 0.50564224), ('5238803c3d5116b06c00f6faa68fe62f141a9632', 0.50474554), ('f6ee74f5aaf7c73366438cfd80cac1f5f002136a', 0.50218666), ('094e3ca8251f2a81626da7af88e25ef03ae7bd86', 0.5007603), ('764fc962174c526c1d24932ca6951ca37f93d6a2', 0.4984481), ('f09ecebee85eee7fd5a3f14a9c4dcb796341f8ff', 0.4947457), ('8875d9afd4acbb01e43908b23170424a34cccce3', 0.4933905), ('06b5e4e1e9b702c590dbe1718bcdbebf9b5038ce', 0.4926544), ('5459dad8668dd5458609ceaa89e659d3d1c44c67', 0.49131003), ('14e07e0abfcdc157d09a6c8b054c276450b73f34', 0.49093306)]\n"
     ]
    }
   ],
   "source": [
    "'''\n",
    "Create 50 recommendations for the first user. Outputs tuples of document_ids and the rating in the matrix.\n",
    "'''\n",
    "recommendations = model.recommend(0, test_data[0], filter_already_liked_items=True, recalculate_user=True, N=50)\n",
    "ids = list(map(lambda x: item_ids[x], list(recommendations[0])))\n",
    "print(list(zip(ids, list(recommendations[1]))))"
   ]
  },
  {
   "cell_type": "code",
   "execution_count": 9,
   "id": "11adb3bd",
   "metadata": {},
   "outputs": [
    {
     "data": {
      "text/plain": [
       "0.26"
      ]
     },
     "execution_count": 9,
     "metadata": {},
     "output_type": "execute_result"
    }
   ],
   "source": [
    "'''\n",
    "Function for evaluating precision for a certain user. takes in an array of ids that are recommended and a user index in the matrix.\n",
    "'''\n",
    "def precision(ids, user_index, max_recommendations = 50):\n",
    "    user_id = user_id_document_df[user_id_document_df.uid == user_index].iloc[0]['userId']\n",
    "    true_positive = 0\n",
    "    total = 0\n",
    "    current_df = user_id_document_df.drop_duplicates(subset=['documentId', 'userId'])\n",
    "    mask = current_df.userId.apply(lambda x: x == user_id)\n",
    "    current_df = current_df[mask]\n",
    "\n",
    "    docs_recommended_properly = []\n",
    "    docs_not_recommended_properly = []\n",
    "\n",
    "    for id in ids:\n",
    "        try:\n",
    "            if current_df[current_df.documentId == id].documentId.values[0] == id:\n",
    "                docs_recommended_properly.append(id)\n",
    "                true_positive += 1\n",
    "        except:\n",
    "            docs_not_recommended_properly.append(id)\n",
    "        total += 1\n",
    "    false_negative = current_df.head(max_recommendations).count().uid - true_positive\n",
    "    return true_positive / (true_positive + false_negative)\n",
    "precision(ids, 1, 50)\n",
    "    "
   ]
  },
  {
   "cell_type": "code",
   "execution_count": 10,
   "id": "bda4523a",
   "metadata": {},
   "outputs": [
    {
     "name": "stdout",
     "output_type": "stream",
     "text": [
      "precisions: [0.26, 0.46, 0.16, 0.36, 0.44, 0.5, 0.3, 0.02, 0.42, 0.24, 0.58, 0.2, 0.54, 0.38, 0.42, 0.5, 0.34, 0.56, 0.46, 0.52, 0.68, 0.62, 0.34, 0.34, 0.16, 0.34, 0.26, 0.16, 0.24, 0.36, 0.5, 0.22, 0.24, 0.34, 0.32, 0.36, 0.24, 0.66, 0.4, 0.38, 0.24, 0.34, 0.52, 0.34, 0.32, 0.44, 0.24, 0.22, 0.6, 0.46, 0.46, 0.22, 0.72, 0.68, 0.5, 0.34, 0.6, 0.3, 0.24, 0.44, 0.42, 0.34, 0.4, 0.38, 0.28, 0.58, 0.58, 0.22, 0.36, 0.34, 0.52, 0.48, 0.4, 0.3, 0.54, 0.56, 0.52, 0.48, 0.56, 0.26, 0.12, 0.4, 0.42, 0.44, 0.34, 0.52, 0.36, 0.38, 0.16, 0.58, 0.6, 0.44, 0.52, 0.42, 0.42, 0.32, 0.32, 0.14, 0.54, 0.1]\n",
      "\n",
      "average precision: 0.39100000000000007\n"
     ]
    }
   ],
   "source": [
    "'''\n",
    "Testing for different precision values on different users with recommendations set to 50\n",
    "'''\n",
    "precisions = []\n",
    "for y in range(0, 100):\n",
    "    recommendations = model.recommend(y, test_data[y], filter_already_liked_items=True, recalculate_user=True, N=50)\n",
    "    ids = list(map(lambda x: item_ids[x], list(recommendations[0])))\n",
    "    precisions.append(precision(ids, y+1))\n",
    "print('precisions: ' + str(precisions) + '\\n')\n",
    "print('average precision: ' + str(sum(precisions) / len(precisions)))\n"
   ]
  },
  {
   "cell_type": "code",
   "execution_count": 11,
   "id": "d273c968",
   "metadata": {},
   "outputs": [
    {
     "data": {
      "text/plain": [
       "<BarContainer object of 100 artists>"
      ]
     },
     "execution_count": 11,
     "metadata": {},
     "output_type": "execute_result"
    },
    {
     "data": {
      "image/png": "[encoded data removed]",
      "text/plain": [
       "<Figure size 432x288 with 1 Axes>"
      ]
     },
     "metadata": {
      "needs_background": "light"
     },
     "output_type": "display_data"
    }
   ],
   "source": [
    "plt.ylabel('Precision')\n",
    "plt.xlabel('User index')\n",
    "plt.bar([x for x in range(1, 101)], height=precisions, data=precisions)"
   ]
  },
  {
   "cell_type": "code",
   "execution_count": 12,
   "id": "b4eae110",
   "metadata": {},
   "outputs": [
    {
     "name": "stdout",
     "output_type": "stream",
     "text": [
      "precisions: [1.0, 0.5, 0.6666666666666666, 0.5, 0.4, 0.3333333333333333, 0.2857142857142857, 0.25, 0.2222222222222222, 0.2, 0.2727272727272727, 0.3333333333333333, 0.38461538461538464, 0.42857142857142855, 0.4, 0.375, 0.4117647058823529, 0.4444444444444444, 0.42105263157894735, 0.4, 0.38095238095238093, 0.4090909090909091, 0.391304347826087, 0.375, 0.36, 0.34615384615384615, 0.3333333333333333, 0.35714285714285715, 0.3793103448275862, 0.4, 0.3870967741935484, 0.375, 0.36363636363636365, 0.35294117647058826, 0.34285714285714286, 0.3333333333333333, 0.32432432432432434, 0.3157894736842105, 0.3076923076923077, 0.3, 0.3170731707317073, 0.30952380952380953, 0.3023255813953488, 0.29545454545454547, 0.28888888888888886, 0.2826086956521739, 0.2765957446808511, 0.2708333333333333, 0.2653061224489796, 0.26, 0.2549019607843137, 0.25, 0.2641509433962264, 0.2777777777777778, 0.2727272727272727, 0.2857142857142857, 0.2807017543859649, 0.27586206896551724, 0.2711864406779661, 0.26666666666666666, 0.26229508196721313, 0.27419354838709675, 0.2698412698412698, 0.265625, 0.26153846153846155, 0.25757575757575757, 0.26865671641791045, 0.2647058823529412, 0.2753623188405797, 0.2714285714285714, 0.2676056338028169, 0.2638888888888889, 0.2602739726027397, 0.25675675675675674, 0.25333333333333335, 0.25, 0.2597402597402597, 0.2564102564102564, 0.25316455696202533, 0.25, 0.24691358024691357, 0.24390243902439024, 0.25301204819277107, 0.25, 0.24705882352941178, 0.2558139534883721, 0.25287356321839083, 0.25, 0.25842696629213485, 0.25555555555555554, 0.25274725274725274, 0.2608695652173913, 0.26881720430107525, 0.26595744680851063, 0.2736842105263158, 0.2708333333333333, 0.26804123711340205, 0.2755102040816326, 0.2727272727272727, 0.27]\n",
      "\n",
      "average precision: 0.31367844611065127\n"
     ]
    }
   ],
   "source": [
    "'''\n",
    "Testing for different precision values on different number of recommendations for the same user\n",
    "'''\n",
    "precisions = []\n",
    "for x in range(1, 101):\n",
    "    recommendations = model.recommend(0, test_data[0], filter_already_liked_items=True, recalculate_user=True, N=x)\n",
    "    ids = list(map(lambda x: item_ids[x], list(recommendations[0])))\n",
    "    precisions.append(precision(ids, 1, x))\n",
    "print('precisions: ' + str(precisions) + '\\n')\n",
    "print('average precision: ' + str(sum(precisions) / len(precisions)))\n"
   ]
  },
  {
   "cell_type": "code",
   "execution_count": 13,
   "id": "eada9554",
   "metadata": {},
   "outputs": [
    {
     "data": {
      "text/plain": [
       "<BarContainer object of 100 artists>"
      ]
     },
     "execution_count": 13,
     "metadata": {},
     "output_type": "execute_result"
    },
    {
     "data": {
      "image/png": "[encoded data removed]",
      "text/plain": [
       "<Figure size 432x288 with 1 Axes>"
      ]
     },
     "metadata": {
      "needs_background": "light"
     },
     "output_type": "display_data"
    }
   ],
   "source": [
    "plt.ylabel('Precision')\n",
    "plt.xlabel('Number of recommendations')\n",
    "plt.bar([x for x in range(1, 101)], height=precisions, data=precisions)"
   ]
  },
  {
   "cell_type": "code",
   "execution_count": 14,
   "id": "a3f4e6a3",
   "metadata": {},
   "outputs": [],
   "source": [
    "def MRR(ids, user_index):\n",
    "    user_id = user_id_document_df[user_id_document_df.uid == user_index].iloc[0]['userId']\n",
    "    current_df = user_id_document_df.drop_duplicates(subset=['documentId', 'userId'])\n",
    "    mask = current_df.userId.apply(lambda x: x == user_id)\n",
    "    current_df = current_df[mask]\n",
    "    ranks = []\n",
    "\n",
    "    for index,id in enumerate(ids):\n",
    "        try:\n",
    "            if current_df[current_df.documentId == id].documentId.values[0] == id:\n",
    "                ranks.append(1/index)\n",
    "        except:\n",
    "            ranks.append(0)\n",
    "    return sum(ranks) / len(ranks)"
   ]
  },
  {
   "cell_type": "code",
   "execution_count": 16,
   "id": "225904d3",
   "metadata": {},
   "outputs": [
    {
     "name": "stdout",
     "output_type": "stream",
     "text": [
      "MRRs: [0.02304684319136652, 0.0462441798224247, 0.010350291365968857, 0.02570312092202848, 0.04809210174715431, 0.058285613705717845, 0.024893313892226935, 0.002857142857142857, 0.04885993515530943, 0.015552805307303057, 0.04142568311093639, 0.013821919879062738, 0.056287619143615394, 0.02362404458115481, 0.032178325712384284, 0.04643713493150721, 0.02264632428339522, 0.06128823899550774, 0.05315888948686372, 0.044854498546628256, 0.07004746608031656, 0.06767648375669397, 0.04367878217506987, 0.05149931550758477, 0.03681385056385056, 0.04393668578730978, 0.04134195848963938, 0.008343912085199632, 0.019614064668377427, 0.0417557429746654, 0.03997323408166717, 0.03047345200233688, 0.03086050954005261, 0.022490327084850402, 0.01269297466673154, 0.048163027252368235, 0.034403037601717534, 0.0679325527788741, 0.05408587510696758, 0.026557134205839515, 0.04442280772651616, 0.02705918016945838, 0.040955068329972144, 0.02372366550171775, 0.03488446641078219, 0.056526222942826256, 0.01232076717419773, 0.012496646640720975, 0.045055852391481084, 0.036721021368624845, 0.03746092608588772, 0.011291180523245981, 0.07070583686213548, 0.061051024769014556, 0.0385459811102342, 0.04159804616737681, 0.04852876955467328, 0.0506519645991345, 0.03117675802458411, 0.02773941423641343, 0.025172747746653977, 0.026890992467220345, 0.030560419840049927, 0.04064801965403223, 0.01727608481604158, 0.07057500799301412, 0.06320172737345822, 0.03317164243582476, 0.04618412281300478, 0.04002291859327463, 0.060034124840631205, 0.049912786420773854, 0.0218325082277335, 0.020211058814894205, 0.04881660263688031, 0.06551906880196834, 0.06974150380667357, 0.06182709175589633, 0.06293076552319436, 0.01971530594162173, 0.003938357394239747, 0.04843889144343302, 0.05360567190353745, 0.055008314181369096, 0.04952819741639181, 0.06704269092375878, 0.02002375749886562, 0.04512054929015202, 0.012078798185941044, 0.06716152990749215, 0.07156931041709816, 0.03872570545782619, 0.060751738526617395, 0.05162410193712714, 0.04279530943253886, 0.028300702837467537, 0.01920730245274413, 0.006588952139995784, 0.05953964441003646, 0.0049782810685249715]\n",
      "\n",
      "average MRR: 0.03925136320964808\n"
     ]
    }
   ],
   "source": [
    "'''\n",
    "Testing for different MRR values on different users with recommendations set to 50\n",
    "'''\n",
    "MRRs = []\n",
    "for y in range(0, 100):\n",
    "    recommendations = model.recommend(y, test_data[y], filter_already_liked_items=True, recalculate_user=True, N=50)\n",
    "    ids = list(map(lambda x: item_ids[x], list(recommendations[0])))\n",
    "    MRRs.append(MRR(ids, y+1))\n",
    "print('MRRs: ' + str(MRRs) + '\\n')\n",
    "print('average MRR: ' + str(sum(MRRs) / len(MRRs)))"
   ]
  },
  {
   "cell_type": "code",
   "execution_count": null,
   "id": "97bdc53d",
   "metadata": {},
   "outputs": [
    {
     "data": {
      "text/plain": [
       "<BarContainer object of 100 artists>"
      ]
     },
     "execution_count": 87,
     "metadata": {},
     "output_type": "execute_result"
    },
    {
     "data": {
      "image/png": "[encoded data removed]",
      "text/plain": [
       "<Figure size 432x288 with 1 Axes>"
      ]
     },
     "metadata": {
      "needs_background": "light"
     },
     "output_type": "display_data"
    }
   ],
   "source": [
    "plt.ylabel('MRR')\n",
    "plt.xlabel('User index')\n",
    "plt.bar([x for x in range(1, 101)], height=MRRs, data=MRRs)"
   ]
  },
  {
   "cell_type": "code",
   "execution_count": 18,
   "id": "5298783e",
   "metadata": {},
   "outputs": [
    {
     "name": "stdout",
     "output_type": "stream",
     "text": [
      "0.05608533228470311\n"
     ]
    }
   ],
   "source": [
    "def catalogue_coverage(user_index):\n",
    "    user_id = user_id_document_df[user_id_document_df.uid == user_index].iloc[0]['userId']\n",
    "    current_df = user_id_document_df.drop_duplicates(subset=['documentId', 'userId'])\n",
    "    mask = current_df.userId.apply(lambda x: x == user_id)\n",
    "    current_df = current_df[mask]\n",
    "    documents = []\n",
    "\n",
    "    recommendations = model.recommend(user_index, test_data[user_index], filter_already_liked_items=True, recalculate_user=True, N=50)\n",
    "    ids = list(map(lambda x: item_ids[x], list(recommendations[0])))\n",
    "    for x in ids:\n",
    "        documents.append(x)\n",
    "    return list(set(documents))\n",
    "\n",
    "cc = []\n",
    "for x in range(1, user_id_document_df.nunique().uid -1):\n",
    "    try:\n",
    "\n",
    "        docs = catalogue_coverage(x)\n",
    "        for y in docs:\n",
    "            cc.append(y)\n",
    "    except:\n",
    "        break\n",
    "cc = list(set(cc))\n",
    "\n",
    "print(len(cc) / user_id_document_df.nunique().documentId)\n",
    "        \n",
    "    "
   ]
  }
 ],
 "metadata": {
  "kernelspec": {
   "display_name": "Python 3 (ipykernel)",
   "language": "python",
   "name": "python3"
  },
  "language_info": {
   "codemirror_mode": {
    "name": "ipython",
    "version": 3
   },
   "file_extension": ".py",
   "mimetype": "text/x-python",
   "name": "python",
   "nbconvert_exporter": "python",
   "pygments_lexer": "ipython3",
   "version": "3.9.12"
  }
 },
 "nbformat": 4,
 "nbformat_minor": 5
}
