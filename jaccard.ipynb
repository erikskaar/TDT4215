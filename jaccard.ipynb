{
 "cells": [
  {
   "cell_type": "code",
   "execution_count": 2,
   "id": "e5b52485",
   "metadata": {},
   "outputs": [],
   "source": [
    "import pandas\n",
    "import sys\n",
    "from utils import jaccard_similarity, load_data"
   ]
  },
  {
   "cell_type": "code",
   "execution_count": 3,
   "id": "4be55210",
   "metadata": {},
   "outputs": [],
   "source": [
    "dataset = load_data(\"./active1000\")"
   ]
  },
  {
   "cell_type": "code",
   "execution_count": 4,
   "id": "db3b9299",
   "metadata": {},
   "outputs": [
    {
     "name": "stdout",
     "output_type": "stream",
     "text": [
      "                                                       url  \\\n",
      "2        http://adressa.no/nyheter/trondheim/2016/12/31...   \n",
      "4        http://adressa.no/pluss/kultur/2016/12/31/bare...   \n",
      "15       http://adressa.no/nyheter/2016/12/31/se-lesern...   \n",
      "16       http://adressa.no/nyheter/trondheim/2016/12/31...   \n",
      "17       http://adressa.no/nyheter/2016/12/31/se-lesern...   \n",
      "...                                                    ...   \n",
      "2207591  http://adressa.no/nyheter/moreromsdal/2017/03/...   \n",
      "2207598  http://adressa.no/nyheter/trondheim/2017/03/31...   \n",
      "2207599  http://adressa.no/nyheter/trondheim/2017/03/31...   \n",
      "2207603  http://adressa.no/pluss/magasin/2017/03/31/tre...   \n",
      "2207607  http://adressa.no/incoming/2017/03/31/transpar...   \n",
      "\n",
      "                                              userId  \n",
      "2                  cx:iimz2wwcwxu7d721:2r8odp9zhg5yp  \n",
      "4                  cx:iimz2wwcwxu7d721:2r8odp9zhg5yp  \n",
      "15                 cx:il0sdznsjgg9uxgy:3bi2ksost85yi  \n",
      "16                  cx:ihnzu06beuazgkud:dj2r4rm22hul  \n",
      "17                 cx:ijtjdxpz93t5f8m5:2iz9n4nuh22ky  \n",
      "...                                              ...  \n",
      "2207591            cx:i2na37dk5w6a1qce:22kho4hg3iv7m  \n",
      "2207598             cx:iaxvnnrzl6wm1z5f:uf8xinqqiaa1  \n",
      "2207599  cx:2w0lpa13j3fvs185zvyme5hscg:2rx8mzv52s32i  \n",
      "2207603  cx:2w0lpa13j3fvs185zvyme5hscg:2rx8mzv52s32i  \n",
      "2207607     cx:13575749204861928455228:1k8qdj5v2uedm  \n",
      "\n",
      "[1157137 rows x 2 columns]\n"
     ]
    }
   ],
   "source": [
    "# Remove unused columns.\n",
    "dataset.drop(columns=[\"eventId\", \"category\", \"activeTime\", \"title\", \"publishtime\", \"time\", \"documentId\"], inplace=True)\n",
    "\n",
    "# Remove events related to the home page.\n",
    "dataset.drop(index=dataset[dataset.url == \"http://adressa.no\"].index, inplace=True)\n",
    "\n",
    "print(dataset)"
   ]
  },
  {
   "cell_type": "code",
   "execution_count": 23,
   "id": "aa46f84e",
   "metadata": {},
   "outputs": [],
   "source": [
    "# Create sets of articles per user\n",
    "user_sets = dataset.groupby(by=\"userId\")[\"url\"].apply(set)"
   ]
  },
  {
   "cell_type": "code",
   "execution_count": 28,
   "id": "ee5973db",
   "metadata": {},
   "outputs": [
    {
     "name": "stdout",
     "output_type": "stream",
     "text": [
      "userId\n",
      "cx:10k2wzm1b3jsk2y5ym1utnjo97:2kefzqaxe9jx7    {http://adressa.no/100sport/fotball/bendtners-...\n",
      "cx:11asuyo07mbi13b849lp87hlje:1i9z1hu1xx694    {http://adressa.no/pluss/okonomi/2017/01/05/i-...\n",
      "cx:13077170178592105431908:2so1nc52xur4d       {http://adressa.no/pluss/kultur/2017/03/15/thr...\n",
      "cx:13082126012361420762846:3nhzg71lk2zqc       {http://adressa.no/nyheter/utenriks/2017/01/14...\n",
      "cx:13082926635761580649288:30q2cgmwa3mzi       {http://adressa.no/familieogoppvekst/sjekk-hvo...\n",
      "                                                                     ...                        \n",
      "cx:ymgd4qz84t6z31b22zecmrpz3:2bclyyq01sfwd     {http://adressa.no/nyheter/utenriks/2017/01/14...\n",
      "cx:ywxiqgtmxyfc24eqhyzpz7jer:28kehwib7kyi8     {http://adressa.no/familieogoppvekst/sjekk-hvo...\n",
      "cx:z5nmgvym79d91yxajr8rncjp3:dd23bgkvv19x      {http://adressa.no/kultur/2017/01/02/det-er-fu...\n",
      "cx:zdxhidle29xquzztafvsik92:2w17zz40qj619      {http://adressa.no/familieogoppvekst/sjekk-hvo...\n",
      "cx:ztquyfd3pug92dd4jpqzsvxfw:dixlo02oz5eu      {http://adressa.no/100sport/vintersport/langre...\n",
      "Name: url, Length: 1000, dtype: object\n",
      "<class 'pandas.core.series.Series'>\n"
     ]
    }
   ],
   "source": [
    "print(user_sets)\n",
    "print(type(user_sets))"
   ]
  },
  {
   "cell_type": "code",
   "execution_count": 56,
   "id": "336d3c8d",
   "metadata": {},
   "outputs": [],
   "source": [
    "def jaccard_user(user_id: str, user_sets: pandas.Series) -> pandas.DataFrame:\n",
    "  \"\"\" Find the jaccard similarity between the user with supplied ID and all other users.\n",
    "\n",
    "  Args:\n",
    "    user_id: The ID of the user to compare to other users.\n",
    "    user_sets: The series of sets of articles read by each user.\n",
    "  \"\"\"\n",
    "  sim_map = {}\n",
    "  user_set = user_sets[user_id]\n",
    "\n",
    "  for other_user, other_user_set in user_sets.iteritems():\n",
    "    jacc = jaccard_similarity(user_set, other_user_set)\n",
    "    sim_map[other_user] = jacc\n",
    "\n",
    "  return pandas.DataFrame.from_dict(sim_map, columns=['Similarity'], orient='index')"
   ]
  },
  {
   "cell_type": "code",
   "execution_count": 26,
   "id": "953417c5",
   "metadata": {},
   "outputs": [
    {
     "data": {
      "text/html": [
       "<div>\n",
       "<style scoped>\n",
       "    .dataframe tbody tr th:only-of-type {\n",
       "        vertical-align: middle;\n",
       "    }\n",
       "\n",
       "    .dataframe tbody tr th {\n",
       "        vertical-align: top;\n",
       "    }\n",
       "\n",
       "    .dataframe thead th {\n",
       "        text-align: right;\n",
       "    }\n",
       "</style>\n",
       "<table border=\"1\" class=\"dataframe\">\n",
       "  <thead>\n",
       "    <tr style=\"text-align: right;\">\n",
       "      <th></th>\n",
       "      <th>Jaccard</th>\n",
       "    </tr>\n",
       "  </thead>\n",
       "  <tbody>\n",
       "    <tr>\n",
       "      <th>cx:10k2wzm1b3jsk2y5ym1utnjo97:2kefzqaxe9jx7</th>\n",
       "      <td>1.000000</td>\n",
       "    </tr>\n",
       "    <tr>\n",
       "      <th>cx:11asuyo07mbi13b849lp87hlje:1i9z1hu1xx694</th>\n",
       "      <td>0.075800</td>\n",
       "    </tr>\n",
       "    <tr>\n",
       "      <th>cx:13077170178592105431908:2so1nc52xur4d</th>\n",
       "      <td>0.049149</td>\n",
       "    </tr>\n",
       "    <tr>\n",
       "      <th>cx:13082126012361420762846:3nhzg71lk2zqc</th>\n",
       "      <td>0.127131</td>\n",
       "    </tr>\n",
       "    <tr>\n",
       "      <th>cx:13082926635761580649288:30q2cgmwa3mzi</th>\n",
       "      <td>0.137699</td>\n",
       "    </tr>\n",
       "    <tr>\n",
       "      <th>...</th>\n",
       "      <td>...</td>\n",
       "    </tr>\n",
       "    <tr>\n",
       "      <th>cx:ymgd4qz84t6z31b22zecmrpz3:2bclyyq01sfwd</th>\n",
       "      <td>0.085466</td>\n",
       "    </tr>\n",
       "    <tr>\n",
       "      <th>cx:ywxiqgtmxyfc24eqhyzpz7jer:28kehwib7kyi8</th>\n",
       "      <td>0.120022</td>\n",
       "    </tr>\n",
       "    <tr>\n",
       "      <th>cx:z5nmgvym79d91yxajr8rncjp3:dd23bgkvv19x</th>\n",
       "      <td>0.035971</td>\n",
       "    </tr>\n",
       "    <tr>\n",
       "      <th>cx:zdxhidle29xquzztafvsik92:2w17zz40qj619</th>\n",
       "      <td>0.127793</td>\n",
       "    </tr>\n",
       "    <tr>\n",
       "      <th>cx:ztquyfd3pug92dd4jpqzsvxfw:dixlo02oz5eu</th>\n",
       "      <td>0.151465</td>\n",
       "    </tr>\n",
       "  </tbody>\n",
       "</table>\n",
       "<p>1000 rows × 1 columns</p>\n",
       "</div>"
      ],
      "text/plain": [
       "                                              Jaccard\n",
       "cx:10k2wzm1b3jsk2y5ym1utnjo97:2kefzqaxe9jx7  1.000000\n",
       "cx:11asuyo07mbi13b849lp87hlje:1i9z1hu1xx694  0.075800\n",
       "cx:13077170178592105431908:2so1nc52xur4d     0.049149\n",
       "cx:13082126012361420762846:3nhzg71lk2zqc     0.127131\n",
       "cx:13082926635761580649288:30q2cgmwa3mzi     0.137699\n",
       "...                                               ...\n",
       "cx:ymgd4qz84t6z31b22zecmrpz3:2bclyyq01sfwd   0.085466\n",
       "cx:ywxiqgtmxyfc24eqhyzpz7jer:28kehwib7kyi8   0.120022\n",
       "cx:z5nmgvym79d91yxajr8rncjp3:dd23bgkvv19x    0.035971\n",
       "cx:zdxhidle29xquzztafvsik92:2w17zz40qj619    0.127793\n",
       "cx:ztquyfd3pug92dd4jpqzsvxfw:dixlo02oz5eu    0.151465\n",
       "\n",
       "[1000 rows x 1 columns]"
      ]
     },
     "execution_count": 26,
     "metadata": {},
     "output_type": "execute_result"
    }
   ],
   "source": [
    "jaccard_user('cx:10k2wzm1b3jsk2y5ym1utnjo97:2kefzqaxe9jx7', user_sets)"
   ]
  },
  {
   "cell_type": "code",
   "execution_count": 75,
   "id": "23ee6dd9",
   "metadata": {},
   "outputs": [],
   "source": [
    "def knn_user(user_id: str, k: int, similarities: pandas.DataFrame, user_sets: pandas.Series) -> pandas.Series:\n",
    "  \"\"\" Given the supplied similarity series, find the recommended articles based on kNN.\n",
    "\n",
    "  Args:\n",
    "    user_id: The ID of the user to find recommended articles for.\n",
    "    k: The number of similar users recommendations should be created from.\n",
    "    similarities: Similarities between the supplied user and all other users.\n",
    "    user_sets: The series of sets of articles read by each user.\n",
    "  \"\"\"\n",
    "  knn = similarities.drop(user_id).nlargest(k, columns=['Similarity'])\n",
    "\n",
    "  weighted_articles = {}\n",
    "\n",
    "  # Iterate all similar users\n",
    "  for other_user_id, row in knn.iterrows():\n",
    "    other_user_set = user_sets[other_user_id]\n",
    "\n",
    "    # Add influence by user on article\n",
    "    for article in other_user_set:\n",
    "      if article not in weighted_articles:\n",
    "        weighted_articles[article] = 0\n",
    "      weighted_articles[article] += row['Similarity']\n",
    "\n",
    "  # Remove articles already seen by user\n",
    "  for article in user_sets[user_id]:\n",
    "    weighted_articles.pop(article, None)\n",
    "\n",
    "  # Sort as list and return\n",
    "  weighted_articles = sorted(weighted_articles.items(), key=lambda x: x[1], reverse=True)\n",
    "  print(weighted_articles[0:20])\n",
    "      \n",
    "\n",
    "  "
   ]
  },
  {
   "cell_type": "code",
   "execution_count": 78,
   "id": "325798e4",
   "metadata": {},
   "outputs": [
    {
     "name": "stdout",
     "output_type": "stream",
     "text": [
      "[('http://adressa.no/pluss/okonomi/2017/02/19/klesbutikk-lagt-ned-etter-25-%c3%a5r-i-midtbyen-14258480.ece', 3.459773815462648), ('http://adressa.no/nyheter/nordtrondelag/2017/03/19/trafikkuhell-ved-bensinstasjon-14471307.ece', 3.284526579199455), ('http://adressa.no/nyheter/trondheim/2017/01/13/fotgjenger-raste-mot-syklist-p%c3%a5-gangstien-14055414.ece', 3.2839320196315414), ('http://adressa.no/nyheter/okonomi/2017/02/09/turoperat%c3%b8r-er-konkurs-14191484.ece', 3.2818640418052016), ('http://adressa.no/pluss/nyheter/2017/02/27/et-halvt-%c3%a5r-etter-blir-det-levert-i-trondheim-14321349.ece', 3.280898313807316), ('http://adressa.no/pluss/okonomi/2017/01/15/city-syd-kan-bli-st%c3%b8rst-igjen-i-jubileums%c3%a5ret-14048772.ece', 3.277353953463934), ('http://adressa.no/100sport/langrenn_old/skimammaens-dod-skaper-frykt-i-smoreboden-229674b.html', 3.2754299061156638), ('http://adressa.no/nyheter/sortrondelag/2017/03/19/fant-skjelett-trolig-fra-istida-14471445.ece', 3.269390050484574), ('http://adressa.no/pluss/kultur/2017/03/01/en-hyggelig-s%c3%b8ndagstur-til-st%c3%b8ren-ble-starten-p%c3%a5-ett-%c3%a5rs-mareritt-14318763.ece', 3.2686515604385913), ('http://adressa.no/nyheter/trondheim/2017/01/26/politiet-nedringt-etter-kjempefyrverkeri-14119794.ece', 3.2677671370519286), ('http://adressa.no/pluss/okonomi/2017/01/16/inrigo-i-vanvikan-m%c3%a5-tredoble-bemanningen-etter-storkontrakt-14069126.ece', 3.266885442600633), ('http://adressa.no/nyheter/trondheim/2017/02/01/j%c3%b8ran-fikk-bakoversveis-da-han-s%c3%a5-kvitteringen-i-nettbanken-14148722.ece', 3.1081998020583197), ('http://adressa.no/pluss/magasin/2017/03/21/jeg-f%c3%b8lte-jeg-mistet-halve-hjertet-mitt-14478931.ece', 3.1065359578157), ('http://adressa.no/bolig/toppleiligheten-omkranset-av-240-kvadratmeter-balkong---det-var-vel-verdt-den-ekstra-investeringen-9642b.html', 3.1060342421437275), ('http://adressa.no/nyheter/sortrondelag/2017/01/31/skulle-til-hitra-havnet-p%c3%a5-frosta-14145824.ece', 3.098252600923135), ('http://adressa.no/nyheter/trondheim/2017/01/09/gjest-ble-syk-politiet-fant-15-millioner-p%c3%a5-hotellrom-14036341.ece', 3.096980293291887), ('http://adressa.no/pluss/okonomi/2017/01/31/39-mister-jobben-etter-konkurs-14145829.ece', 3.0930759131984416), ('http://adressa.no/nyheter/trondheim/2017/01/02/stj%c3%a5let-kj%c3%b8reskolebil-funnet-ramponert-p%c3%a5grep-gjengangerkriminell-14006016.ece', 3.081522675487726), ('http://adressa.no/pluss/magasin/2017/03/11/jeg-tok-med-en-bok-om-is-p%c3%a5-flyet-til-usa.-det-skulle-jeg-aldri-ha-gjort-14430255.ece', 3.06028499944876), ('http://adressa.no/bolig/sa-ofte-bor-du-vaske-tak-og-vegger-i-huset-9831b.html', 2.9300627904489702)]\n"
     ]
    }
   ],
   "source": [
    "user_id = 'cx:13082926635761580649288:30q2cgmwa3mzi'\n",
    "knn_user(user_id, 20, jaccard_user(user_id, user_sets), user_sets)"
   ]
  }
 ],
 "metadata": {
  "kernelspec": {
   "display_name": "Python 3 (ipykernel)",
   "language": "python",
   "name": "python3"
  },
  "language_info": {
   "codemirror_mode": {
    "name": "ipython",
    "version": 3
   },
   "file_extension": ".py",
   "mimetype": "text/x-python",
   "name": "python",
   "nbconvert_exporter": "python",
   "pygments_lexer": "ipython3",
   "version": "3.10.4"
  }
 },
 "nbformat": 4,
 "nbformat_minor": 5
}
