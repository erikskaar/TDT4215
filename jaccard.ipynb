{
 "cells": [
  {
   "cell_type": "code",
   "execution_count": 2,
   "id": "e5b52485",
   "metadata": {},
   "outputs": [],
   "source": [
    "import pandas\n",
    "import sys\n",
    "from utils import jaccard_similarity, load_data"
   ]
  },
  {
   "cell_type": "code",
   "execution_count": 4,
   "id": "4be55210",
   "metadata": {},
   "outputs": [],
   "source": [
    "dataset = load_data(\"./active1000\")"
   ]
  },
  {
   "cell_type": "code",
   "execution_count": 5,
   "id": "db3b9299",
   "metadata": {},
   "outputs": [
    {
     "name": "stdout",
     "output_type": "stream",
     "text": [
      "                                                       url  \\\n",
      "2        http://adressa.no/nyheter/trondheim/2016/12/31...   \n",
      "4        http://adressa.no/pluss/kultur/2016/12/31/bare...   \n",
      "15       http://adressa.no/nyheter/2016/12/31/se-lesern...   \n",
      "16       http://adressa.no/nyheter/trondheim/2016/12/31...   \n",
      "17       http://adressa.no/nyheter/2016/12/31/se-lesern...   \n",
      "...                                                    ...   \n",
      "2207591  http://adressa.no/nyheter/moreromsdal/2017/03/...   \n",
      "2207598  http://adressa.no/nyheter/trondheim/2017/03/31...   \n",
      "2207599  http://adressa.no/nyheter/trondheim/2017/03/31...   \n",
      "2207603  http://adressa.no/pluss/magasin/2017/03/31/tre...   \n",
      "2207607  http://adressa.no/incoming/2017/03/31/transpar...   \n",
      "\n",
      "                                              userId  \n",
      "2                  cx:iimz2wwcwxu7d721:2r8odp9zhg5yp  \n",
      "4                  cx:iimz2wwcwxu7d721:2r8odp9zhg5yp  \n",
      "15                 cx:il0sdznsjgg9uxgy:3bi2ksost85yi  \n",
      "16                  cx:ihnzu06beuazgkud:dj2r4rm22hul  \n",
      "17                 cx:ijtjdxpz93t5f8m5:2iz9n4nuh22ky  \n",
      "...                                              ...  \n",
      "2207591            cx:i2na37dk5w6a1qce:22kho4hg3iv7m  \n",
      "2207598             cx:iaxvnnrzl6wm1z5f:uf8xinqqiaa1  \n",
      "2207599  cx:2w0lpa13j3fvs185zvyme5hscg:2rx8mzv52s32i  \n",
      "2207603  cx:2w0lpa13j3fvs185zvyme5hscg:2rx8mzv52s32i  \n",
      "2207607     cx:13575749204861928455228:1k8qdj5v2uedm  \n",
      "\n",
      "[1157137 rows x 2 columns]\n"
     ]
    }
   ],
   "source": [
    "# Remove unused columns.\n",
    "dataset.drop(columns=[\"eventId\", \"category\", \"activeTime\", \"title\", \"publishtime\", \"time\", \"documentId\"], inplace=True)\n",
    "\n",
    "# Remove events related to the home page.\n",
    "dataset.drop(index=dataset[dataset.url == \"http://adressa.no\"].index, inplace=True)\n",
    "\n",
    "print(dataset)"
   ]
  },
  {
   "cell_type": "code",
   "execution_count": 15,
   "id": "aa46f84e",
   "metadata": {},
   "outputs": [
    {
     "data": {
      "text/plain": [
       "userId\n",
       "cx:10k2wzm1b3jsk2y5ym1utnjo97:2kefzqaxe9jx7    {http://adressa.no/100sport/vintersport/langre...\n",
       "cx:11asuyo07mbi13b849lp87hlje:1i9z1hu1xx694    {http://adressa.no/nyheter/innenriks/2017/03/1...\n",
       "cx:13077170178592105431908:2so1nc52xur4d       {http://adressa.no/pluss/kultur/2017/01/23/cre...\n",
       "cx:13082126012361420762846:3nhzg71lk2zqc       {http://adressa.no/nyheter/nordtrondelag/2017/...\n",
       "cx:13082926635761580649288:30q2cgmwa3mzi       {http://adressa.no/pluss/2016/03/07/krever-vei...\n",
       "                                                                     ...                        \n",
       "cx:ymgd4qz84t6z31b22zecmrpz3:2bclyyq01sfwd     {http://adressa.no/reise/ny-prestisjekaring-de...\n",
       "cx:ywxiqgtmxyfc24eqhyzpz7jer:28kehwib7kyi8     {http://adressa.no/pluss/nyheter/2017/02/16/ha...\n",
       "cx:z5nmgvym79d91yxajr8rncjp3:dd23bgkvv19x      {http://adressa.no/folk/2017/03/22/minneord-pe...\n",
       "cx:zdxhidle29xquzztafvsik92:2w17zz40qj619      {http://adressa.no/nyheter/trondheim/2017/03/2...\n",
       "cx:ztquyfd3pug92dd4jpqzsvxfw:dixlo02oz5eu      {http://adressa.no/nyheter/sortrondelag/2017/0...\n",
       "Name: url, Length: 1000, dtype: object"
      ]
     },
     "execution_count": 15,
     "metadata": {},
     "output_type": "execute_result"
    }
   ],
   "source": [
    "# Create sets of articles per user\n",
    "userSets = dataset.groupby(by=\"userId\")[\"url\"].apply(set)"
   ]
  },
  {
   "cell_type": "code",
   "execution_count": 20,
   "id": "336d3c8d",
   "metadata": {},
   "outputs": [
    {
     "name": "stdout",
     "output_type": "stream",
     "text": [
      "1.0\n"
     ]
    },
    {
     "ename": "SystemExit",
     "evalue": "0",
     "output_type": "error",
     "traceback": [
      "An exception has occurred, use %tb to see the full traceback.\n",
      "\u001b[1;31mSystemExit\u001b[0m\u001b[1;31m:\u001b[0m 0\n"
     ]
    }
   ],
   "source": [
    "sim_matrix = {}\n",
    "\n",
    "for user, user_set in userSets.iteritems():\n",
    "    for other_user, other_user_set in userSets.iteritems():\n",
    "        jacc = jaccard_similarity(user_set, other_user_set)\n",
    "        print(jacc)\n",
    "        if user in sim_matrix:\n",
    "            sim_matrix[user][other_user] = jacc\n",
    "        else:\n",
    "            sim_matrix[user] = {}\n",
    "            sim_matrix[user][other_user] = jacc"
   ]
  },
  {
   "cell_type": "code",
   "execution_count": null,
   "id": "953417c5",
   "metadata": {},
   "outputs": [],
   "source": []
  }
 ],
 "metadata": {
  "kernelspec": {
   "display_name": "Python 3 (ipykernel)",
   "language": "python",
   "name": "python3"
  },
  "language_info": {
   "codemirror_mode": {
    "name": "ipython",
    "version": 3
   },
   "file_extension": ".py",
   "mimetype": "text/x-python",
   "name": "python",
   "nbconvert_exporter": "python",
   "pygments_lexer": "ipython3",
   "version": "3.10.2"
  }
 },
 "nbformat": 4,
 "nbformat_minor": 5
}
