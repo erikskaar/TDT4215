{
 "cells": [
  {
   "cell_type": "code",
   "execution_count": 64,
   "id": "e5b52485",
   "metadata": {},
   "outputs": [],
   "source": [
    "import pandas\n",
    "import sys\n",
    "import numpy as np\n",
    "from utils import jaccard_similarity, load_data\n",
    "from functools import reduce\n"
   ]
  },
  {
   "cell_type": "code",
   "execution_count": 65,
   "id": "4be55210",
   "metadata": {},
   "outputs": [],
   "source": [
    "dataset = load_data(\"./active1000\")"
   ]
  },
  {
   "cell_type": "code",
   "execution_count": 66,
   "id": "db3b9299",
   "metadata": {},
   "outputs": [
    {
     "name": "stdout",
     "output_type": "stream",
     "text": [
      "                                                       url  \\\n",
      "1        http://adressa.no/nyheter/trondheim/2017/03/17...   \n",
      "7        http://adressa.no/nyheter/okonomi/2017/03/20/h...   \n",
      "8        http://adressa.no/100sport/idrettspolitikk/her...   \n",
      "9        http://adressa.no/pluss/nyheter/2017/03/20/ott...   \n",
      "10       http://adressa.no/pluss/nyheter/2017/03/20/i-e...   \n",
      "...                                                    ...   \n",
      "2207599  http://adressa.no/nyheter/trondheim/2017/03/07...   \n",
      "2207600  http://adressa.no/100sport/fotball/slik-reager...   \n",
      "2207603  http://adressa.no/100sport/meninger/na-tar-kar...   \n",
      "2207604  http://adressa.no/pluss/nyheter/2017/03/07/reg...   \n",
      "2207606  http://adressa.no/nyheter/nordtrondelag/2017/0...   \n",
      "\n",
      "                                              userId  \n",
      "1           cx:13675964253951224092221:1wgstmuzo9vjl  \n",
      "7                   cx:i7m47c8k5538rd2u:sdl67619goo2  \n",
      "8            cx:1359724185772431277628:1bo1nngcb9hcr  \n",
      "9           cx:13675964253951224092221:1wgstmuzo9vjl  \n",
      "10        cx:y3ojtj1dah373vh26yiostnfa:3bnuogklc05m0  \n",
      "...                                              ...  \n",
      "2207599             cx:id7tstwd5zuefcfw:eegpcuhzc561  \n",
      "2207600  cx:3cnrzkkirgn5315j3jixvoxc8m:1sq5emlztazvw  \n",
      "2207603            cx:imwldbva7cozy5uw:3mx2w9hc695y1  \n",
      "2207604            cx:i5bfw5zrd6pe46yj:15ks2mz7z5rcz  \n",
      "2207606  cx:3cnrzkkirgn5315j3jixvoxc8m:1sq5emlztazvw  \n",
      "\n",
      "[1157137 rows x 2 columns]\n"
     ]
    }
   ],
   "source": [
    "# Remove unused columns.\n",
    "dataset.drop(columns=[\"eventId\", \"category\", \"activeTime\", \"title\", \"publishtime\", \"time\", \"documentId\"], inplace=True)\n",
    "\n",
    "# Remove events related to the home page.\n",
    "dataset.drop(index=dataset[dataset.url == \"http://adressa.no\"].index, inplace=True)\n",
    "\n",
    "print(dataset)"
   ]
  },
  {
   "cell_type": "code",
   "execution_count": 67,
   "id": "aa46f84e",
   "metadata": {},
   "outputs": [],
   "source": [
    "# Create sets of articles per user\n",
    "user_sets = dataset.groupby(by=\"userId\")[\"url\"].apply(set)"
   ]
  },
  {
   "cell_type": "code",
   "execution_count": 68,
   "id": "ee5973db",
   "metadata": {},
   "outputs": [
    {
     "name": "stdout",
     "output_type": "stream",
     "text": [
      "userId\n",
      "cx:10k2wzm1b3jsk2y5ym1utnjo97:2kefzqaxe9jx7    {http://adressa.no/pluss/okonomi/2017/03/05/ko...\n",
      "cx:11asuyo07mbi13b849lp87hlje:1i9z1hu1xx694    {http://adressa.no/nyheter/sortrondelag/2017/0...\n",
      "cx:13077170178592105431908:2so1nc52xur4d       {http://adressa.no/pluss/kultur/2017/03/02/ise...\n",
      "cx:13082126012361420762846:3nhzg71lk2zqc       {http://adressa.no/100sport/vintersport/langre...\n",
      "cx:13082926635761580649288:30q2cgmwa3mzi       {http://adressa.no/100sport/vintersport/langre...\n",
      "                                                                     ...                        \n",
      "cx:ymgd4qz84t6z31b22zecmrpz3:2bclyyq01sfwd     {http://adressa.no/100sport/vintersport/sa-mye...\n",
      "cx:ywxiqgtmxyfc24eqhyzpz7jer:28kehwib7kyi8     {http://adressa.no/100sport/vintersport/langre...\n",
      "cx:z5nmgvym79d91yxajr8rncjp3:dd23bgkvv19x      {http://adressa.no/meninger/2017/03/21/tren-de...\n",
      "cx:zdxhidle29xquzztafvsik92:2w17zz40qj619      {http://adressa.no/pluss/okonomi/2017/03/05/ko...\n",
      "cx:ztquyfd3pug92dd4jpqzsvxfw:dixlo02oz5eu      {http://adressa.no/100sport/vintersport/langre...\n",
      "Name: url, Length: 1000, dtype: object\n",
      "<class 'pandas.core.series.Series'>\n"
     ]
    }
   ],
   "source": [
    "print(user_sets)\n",
    "print(type(user_sets))"
   ]
  },
  {
   "cell_type": "code",
   "execution_count": 69,
   "id": "336d3c8d",
   "metadata": {},
   "outputs": [],
   "source": [
    "def jaccard_user(user_id: str, user_sets: pandas.Series) -> pandas.DataFrame:\n",
    "  \"\"\" Find the jaccard similarity between the user with supplied ID and all other users.\n",
    "\n",
    "  Args:\n",
    "    user_id: The ID of the user to compare to other users.\n",
    "    user_sets: The series of sets of articles read by each user.\n",
    "  \"\"\"\n",
    "  sim_map = {}\n",
    "  user_set = user_sets[user_id]\n",
    "\n",
    "  for other_user, other_user_set in user_sets.iteritems():\n",
    "    jacc = jaccard_similarity(user_set, other_user_set)\n",
    "    sim_map[other_user] = jacc\n",
    "\n",
    "  return pandas.DataFrame.from_dict(sim_map, columns=['Similarity'], orient='index')"
   ]
  },
  {
   "cell_type": "code",
   "execution_count": 70,
   "id": "953417c5",
   "metadata": {},
   "outputs": [
    {
     "data": {
      "text/html": [
       "<div>\n",
       "<style scoped>\n",
       "    .dataframe tbody tr th:only-of-type {\n",
       "        vertical-align: middle;\n",
       "    }\n",
       "\n",
       "    .dataframe tbody tr th {\n",
       "        vertical-align: top;\n",
       "    }\n",
       "\n",
       "    .dataframe thead th {\n",
       "        text-align: right;\n",
       "    }\n",
       "</style>\n",
       "<table border=\"1\" class=\"dataframe\">\n",
       "  <thead>\n",
       "    <tr style=\"text-align: right;\">\n",
       "      <th></th>\n",
       "      <th>Similarity</th>\n",
       "    </tr>\n",
       "  </thead>\n",
       "  <tbody>\n",
       "    <tr>\n",
       "      <th>cx:10k2wzm1b3jsk2y5ym1utnjo97:2kefzqaxe9jx7</th>\n",
       "      <td>1.000000</td>\n",
       "    </tr>\n",
       "    <tr>\n",
       "      <th>cx:11asuyo07mbi13b849lp87hlje:1i9z1hu1xx694</th>\n",
       "      <td>0.075800</td>\n",
       "    </tr>\n",
       "    <tr>\n",
       "      <th>cx:13077170178592105431908:2so1nc52xur4d</th>\n",
       "      <td>0.049149</td>\n",
       "    </tr>\n",
       "    <tr>\n",
       "      <th>cx:13082126012361420762846:3nhzg71lk2zqc</th>\n",
       "      <td>0.127131</td>\n",
       "    </tr>\n",
       "    <tr>\n",
       "      <th>cx:13082926635761580649288:30q2cgmwa3mzi</th>\n",
       "      <td>0.137699</td>\n",
       "    </tr>\n",
       "    <tr>\n",
       "      <th>...</th>\n",
       "      <td>...</td>\n",
       "    </tr>\n",
       "    <tr>\n",
       "      <th>cx:ymgd4qz84t6z31b22zecmrpz3:2bclyyq01sfwd</th>\n",
       "      <td>0.085466</td>\n",
       "    </tr>\n",
       "    <tr>\n",
       "      <th>cx:ywxiqgtmxyfc24eqhyzpz7jer:28kehwib7kyi8</th>\n",
       "      <td>0.120022</td>\n",
       "    </tr>\n",
       "    <tr>\n",
       "      <th>cx:z5nmgvym79d91yxajr8rncjp3:dd23bgkvv19x</th>\n",
       "      <td>0.035971</td>\n",
       "    </tr>\n",
       "    <tr>\n",
       "      <th>cx:zdxhidle29xquzztafvsik92:2w17zz40qj619</th>\n",
       "      <td>0.127793</td>\n",
       "    </tr>\n",
       "    <tr>\n",
       "      <th>cx:ztquyfd3pug92dd4jpqzsvxfw:dixlo02oz5eu</th>\n",
       "      <td>0.151465</td>\n",
       "    </tr>\n",
       "  </tbody>\n",
       "</table>\n",
       "<p>1000 rows × 1 columns</p>\n",
       "</div>"
      ],
      "text/plain": [
       "                                             Similarity\n",
       "cx:10k2wzm1b3jsk2y5ym1utnjo97:2kefzqaxe9jx7    1.000000\n",
       "cx:11asuyo07mbi13b849lp87hlje:1i9z1hu1xx694    0.075800\n",
       "cx:13077170178592105431908:2so1nc52xur4d       0.049149\n",
       "cx:13082126012361420762846:3nhzg71lk2zqc       0.127131\n",
       "cx:13082926635761580649288:30q2cgmwa3mzi       0.137699\n",
       "...                                                 ...\n",
       "cx:ymgd4qz84t6z31b22zecmrpz3:2bclyyq01sfwd     0.085466\n",
       "cx:ywxiqgtmxyfc24eqhyzpz7jer:28kehwib7kyi8     0.120022\n",
       "cx:z5nmgvym79d91yxajr8rncjp3:dd23bgkvv19x      0.035971\n",
       "cx:zdxhidle29xquzztafvsik92:2w17zz40qj619      0.127793\n",
       "cx:ztquyfd3pug92dd4jpqzsvxfw:dixlo02oz5eu      0.151465\n",
       "\n",
       "[1000 rows x 1 columns]"
      ]
     },
     "execution_count": 70,
     "metadata": {},
     "output_type": "execute_result"
    }
   ],
   "source": [
    "jaccard_user('cx:10k2wzm1b3jsk2y5ym1utnjo97:2kefzqaxe9jx7', user_sets)"
   ]
  },
  {
   "cell_type": "code",
   "execution_count": 71,
   "id": "23ee6dd9",
   "metadata": {},
   "outputs": [],
   "source": [
    "def knn_user(user_id: str, k: int, similarities: pandas.DataFrame, user_sets: pandas.Series) -> pandas.Series:\n",
    "  \"\"\" Given the supplied similarity series, find the recommended articles based on kNN.\n",
    "\n",
    "  Args:\n",
    "    user_id: The ID of the user to find recommended articles for.\n",
    "    k: The number of similar users recommendations should be created from.\n",
    "    similarities: Similarities between the supplied user and all other users.\n",
    "    user_sets: The series of sets of articles read by each user.\n",
    "  \"\"\"\n",
    "  knn = similarities.drop(user_id).nlargest(k, columns=['Similarity'])\n",
    "\n",
    "  weighted_articles = {}\n",
    "\n",
    "  # Iterate all similar users\n",
    "  for other_user_id, row in knn.iterrows():\n",
    "    other_user_set = user_sets[other_user_id]\n",
    "\n",
    "    # Add influence by user on article\n",
    "    for article in other_user_set:\n",
    "      if article not in weighted_articles:\n",
    "        weighted_articles[article] = 0\n",
    "      weighted_articles[article] += row['Similarity']\n",
    "\n",
    "  # Remove articles already seen by user\n",
    "  for article in user_sets[user_id]:\n",
    "    weighted_articles.pop(article, None)\n",
    "\n",
    "  # Sort as list and return\n",
    "  weighted_articles = sorted(weighted_articles.items(), key=lambda x: x[1], reverse=True)\n",
    "  return weighted_articles\n",
    "      \n",
    "\n",
    "  "
   ]
  },
  {
   "cell_type": "code",
   "execution_count": 72,
   "id": "325798e4",
   "metadata": {},
   "outputs": [
    {
     "name": "stdout",
     "output_type": "stream",
     "text": [
      "4.358620085401448 http://adressa.no/nyheter/trondheim/2017/02/26/kastet-m%c3%b8bler-ut-vinduet-14314808.ece\n",
      "4.358620085401448 http://adressa.no/nyheter/sortrondelag/2017/01/31/skulle-til-hitra-havnet-p%c3%a5-frosta-14145824.ece\n",
      "4.358620085401448 http://adressa.no/pluss/nyheter/2017/02/28/frost-kj%c3%b8per-meny-eiendommen-p%c3%a5-lade-14327926.ece\n",
      "4.14008998375954 http://adressa.no/pluss/okonomi/2017/03/08/legger-ned-butikk-i-midtbyen-etter-30-%c3%a5r-14406848.ece\n",
      "4.139332873661406 http://adressa.no/nyheter/sortrondelag/2017/01/05/vi-skal-ikke-drive-med-biljakt-14018144.ece\n",
      "3.9293355279310402 http://adressa.no/100sport/vintersport/langrenn/pappa-northugs-vm-tabbe-her-ma-han-forlate-lahti-rett-for-sprinten-231071b.html\n",
      "3.923755048914975 http://adressa.no/nyheter/moreromsdal/2017/01/02/navnet-p%c3%a5-druknet-40-%c3%a5ring-er-frigitt-14006579.ece\n",
      "3.9103626382207994 http://adressa.no/100sport/vintersport/langrenn/svensk-skistjerne-tror-ikke-pa-northug---har-ikke-bevist-mye-230452b.html\n",
      "3.719228012176436 http://adressa.no/100sport/vintersport/langrenn/vm-vrakede-dyrhaug-knuste-northug-med-halvannet-minutt---jeg-gikk-i-sinne-230388b.html\n",
      "3.7191843505601687 http://adressa.no/100sport/vintersport/langrenn/knuste-northug---ble-sendt-pa-bomtur-til-sverige-229223b.html\n",
      "3.7122885482441688 http://adressa.no/100sport/langrenn_old/--sorry_-norge-tiden-er-kommet-for-a-abdisere_-bjorgen-228524b.html\n",
      "3.703066342110273 http://adressa.no/nyheter/trondheim/2017/03/01/spesielt-damer-reagerer-negativt-og-snur-i-d%c3%b8ra-14342742.ece\n",
      "3.6988308870574365 http://adressa.no/nyheter/2017/02/15/v%c3%a6pnet-aksjon-etter-at-kokk-skal-ha-kastet-stekepanne-etter-gjest-14226165.ece\n",
      "3.6987267286947336 http://adressa.no/nyheter/trondheim/2017/01/12/22-tatt-i-laserkontroll-i-trondheim-14051759.ece\n",
      "3.696236433529109 http://adressa.no/pluss/nyheter/2017/03/28/derfor-er-det-forbudt-%c3%a5-kj%c3%b8re-til-h%c3%b8yre-i-bispegata-14510238.ece\n",
      "3.6912925319839576 http://adressa.no/pluss/nyheter/2017/02/16/beboere-p%c3%a5-ranheim-vil-heller-ha-trivsel-enn-tog-14228437.ece\n",
      "3.6889067005371725 http://adressa.no/nyheter/trondheim/2017/03/05/ulovlig-ikea-trend-har-n%c3%a5dd-norge-14392640.ece\n",
      "3.677911509814465 http://adressa.no/nyheter/trondheim/2017/01/23/opptil-100-lastebiler-passerer-hver-time-14079403.ece\n",
      "3.6748011090077024 http://adressa.no/pluss/nyheter/2017/01/25/livredd-mann-banket-p%c3%a5-ruta-og-snakket-om-knivstikking-14114420.ece\n",
      "3.499595560361107 http://adressa.no/100sport/vintersport/langrenn/finsk-skitopp-skjelte-ut-iversen-pa-direktesendt-tv---han-grat-voldsomt_-som-et-lite-barn-231269b.html\n"
     ]
    }
   ],
   "source": [
    "# Jaccard example\n",
    "user_id = 'cx:ztquyfd3pug92dd4jpqzsvxfw:dixlo02oz5eu'\n",
    "for article, weight in knn_user(user_id, 20, jaccard_user(user_id, user_sets), user_sets)[0:20]:\n",
    "  print(weight, article)"
   ]
  },
  {
   "cell_type": "code",
   "execution_count": 73,
   "id": "54926b2d",
   "metadata": {},
   "outputs": [],
   "source": [
    "articles = dataset[\"url\"].unique()\n",
    "\n",
    "def recommend_random(n, user_id):\n",
    "  recommended_articles = []\n",
    "  for i in np.random.randint(0, len(articles), n*5):\n",
    "    recommended_articles.append(articles[i])\n",
    "\n",
    "  # Remove articles already seen by user\n",
    "  for article in user_sets[user_id]:\n",
    "    try: \n",
    "      recommended_articles.remove(article)\n",
    "    except:\n",
    "      pass\n",
    "\n",
    "  return recommended_articles[0:n]"
   ]
  },
  {
   "cell_type": "code",
   "execution_count": 74,
   "id": "1efb4902",
   "metadata": {},
   "outputs": [
    {
     "name": "stdout",
     "output_type": "stream",
     "text": [
      "http://adressa.no/meninger/2017/02/06/mer-enn-pennestr%c3%b8k-m%c3%a5-til-for-%c3%a5-avskaffe-fattigdom-14178267.ece\n",
      "http://adressa.no/100sport/fotball/svensson-pa-tribunen-da-friday-scoret-to-i-alkmaar-tap-230000b.html\n",
      "http://adressa.no/nyheter/okonomi/2015/10/27/mener-%c3%b8nsket-om-bilfri-midtby-er-%c2%abbasert-p%c3%a5-f%c3%b8lelser-ikke-fakta%c2%bb-11737603.ece\n",
      "http://adressa.no/100sport/fotball/erling-braut-haland-spiller-testkamp-for-fc-kobenhavn-228733b.html\n",
      "http://adressa.no/pluss/okonomi/2016/11/27/hver-arbeidsdag-er-en-konkurranse-13819845.ece\n",
      "http://adressa.no/digital/fra-1g-til-4g-4538b.html\n",
      "http://adressa.no/video/article14114338.ece\n",
      "http://adressa.no/bolig/bygger-mikrohus-pa-under-20-kvm-mener-nordmenn-ma-slutte-a-breie-seg-9518b.html\n",
      "http://adressa.no/100sport/vintersport/langrenn/northug---tromso-bor-bli-norges-nye-hovedstad-216539b.html\n",
      "http://adressa.no/kultur/2016/06/15/rune-langlo-kan-f%c3%a5-fire-amanda-priser-12894922.ece\n",
      "http://adressa.no/nyheter/utenriks/2017/03/11/%c3%85tte-afghanske-politifolk-drept-av-sine-egne-14427928.ece\n",
      "http://adressa.no/100sport/fotball/ny-stadion-i-storbyen-er-helt-unik-har-du-nok-penger_-kan-du-nesten-ta-pa-stjernene-229410b.html\n",
      "http://adressa.no/pluss/kultur/2016/10/20/h%c3%b8stens-viktigste-bok-13672448.ece\n",
      "http://adressa.no/kultur/film/filmanmeldelser/article160520.ece\n",
      "http://adressa.no/100sport/fotball/svenssons-erstatter-pa-plass-i-trondheim---klar-for-rbk-230279b.html\n",
      "http://adressa.no/100sport/skiskyting/nrk-ekspert-etter-fiaskostafetten---krise-for-norsk-skiskyting-230780b.html\n",
      "http://adressa.no/nyheter/utenriks/2017/03/22/den-globale-koalisjonen-mot-is-m%c3%b8tes-i-washington-14487387.ece\n",
      "http://adressa.no/100sport/fotball/tidligere-nottingham-forest-spiss-klar-for-aalesund-233181b.html\n",
      "http://adressa.no/nyheter/utenriks/2017/02/05/1.500-migranter-berget-i-middelhavet-14172922.ece\n",
      "http://adressa.no/vaeret/2017/03/27/n%c3%a5-stuper-temperaturen-14509649.ece\n"
     ]
    }
   ],
   "source": [
    "# Random example\n",
    "user_id = 'cx:ztquyfd3pug92dd4jpqzsvxfw:dixlo02oz5eu'\n",
    "for article in recommend_random(20, user_id):\n",
    "  print(article)"
   ]
  },
  {
   "cell_type": "code",
   "execution_count": 81,
   "id": "d17c0d08",
   "metadata": {},
   "outputs": [
    {
     "name": "stdout",
     "output_type": "stream",
     "text": [
      "Recall, predictions_made\n",
      "Average recall jacc:  0.1322572793838549\n",
      "Max recall jacc 0.36423841059602646\n",
      "Average recall rand:  0.006689013951009551\n",
      "Max random recall 0.0273972602739726\n",
      "Unique articles predicted, jacc 1703\n",
      "Unique articles predicted, random 12971\n"
     ]
    }
   ],
   "source": [
    "# Test Jacc\n",
    "\n",
    "recalls = []\n",
    "recalls_random = []\n",
    "\n",
    "randomly_predicted = set()\n",
    "jaccard_predicted = set()\n",
    "\n",
    "user_sets = dataset.groupby(by=\"userId\")[\"url\"].apply(set)\n",
    "\n",
    "print(\"Recall, predictions_made\")\n",
    "for user_id in user_sets.keys()[0:100]:\n",
    "  user_sets_2 = user_sets.copy()\n",
    "  this_user_set = user_sets_2[user_id]\n",
    "\n",
    "  test_set = set()\n",
    "  for _ in range(0, len(this_user_set)//5):\n",
    "    test_set.add(this_user_set.pop())\n",
    "\n",
    "  if(len(test_set) == 0):\n",
    "    continue\n",
    "\n",
    "  user_sets_2[user_id] = this_user_set\n",
    "\n",
    "  predictions = knn_user(user_id, 30, jaccard_user(user_id, user_sets_2), user_sets_2)[0: len(test_set)]\n",
    "  predictions_2 = set([prediction[0] for prediction in predictions])\n",
    "  jaccard_predicted = jaccard_predicted.union(predictions_2)\n",
    "  correct_guesses = len(predictions_2.intersection(test_set))\n",
    "  recall = correct_guesses/len(predictions_2)\n",
    "  recalls.append(recall)\n",
    "\n",
    "  # print(recall, len(predictions_2))\n",
    "\n",
    "  #### Random benchmark\n",
    "\n",
    "  predictions_random = recommend_random(len(test_set), user_id)\n",
    "  predictions_random_2 = set(predictions_random)\n",
    "  randomly_predicted = randomly_predicted.union(predictions_random_2)\n",
    "  correct_random_guesses = len(predictions_random_2.intersection(test_set))\n",
    "  recall_random = correct_random_guesses/len(predictions_random_2)\n",
    "  recalls_random.append(recall_random)\n",
    "\n",
    "\n",
    "#average_ctr = reduce(lambda x, y: x + y, ctrs)/len(ctrs)\n",
    "average_recall = sum(recalls)/len(recalls)\n",
    "average_recall_random = sum(recalls_random)/len(recalls_random)\n",
    "\n",
    "print(\"Average recall jacc: \", average_recall)\n",
    "print(\"Max recall jacc\", max(recalls))\n",
    "print(\"Average recall rand: \", average_recall_random)\n",
    "print(\"Max random recall\", max(recalls_random))\n",
    "print(\"Unique articles predicted, jacc\", len(jaccard_predicted))\n",
    "print(\"Unique articles predicted, random\", len(randomly_predicted))\n",
    "\n"
   ]
  },
  {
   "cell_type": "code",
   "execution_count": null,
   "id": "d2ee725e",
   "metadata": {},
   "outputs": [],
   "source": [
    "# test random\n"
   ]
  },
  {
   "cell_type": "code",
   "execution_count": null,
   "id": "e23087d4",
   "metadata": {},
   "outputs": [],
   "source": [
    "user_sets_2[user_id]\n",
    "for article, weight in knn_user(user_id, 20, jaccard_user(user_id, user_sets), user_sets)[0:20]:\n",
    "  print(weight, article)"
   ]
  }
 ],
 "metadata": {
  "kernelspec": {
   "display_name": "Python 3 (ipykernel)",
   "language": "python",
   "name": "python3"
  },
  "language_info": {
   "codemirror_mode": {
    "name": "ipython",
    "version": 3
   },
   "file_extension": ".py",
   "mimetype": "text/x-python",
   "name": "python",
   "nbconvert_exporter": "python",
   "pygments_lexer": "ipython3",
   "version": "3.10.2"
  }
 },
 "nbformat": 4,
 "nbformat_minor": 5
}
