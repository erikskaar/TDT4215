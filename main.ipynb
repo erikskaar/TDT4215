{
 "cells": [
  {
   "cell_type": "code",
   "execution_count": 41,
   "id": "e5b52485",
   "metadata": {},
   "outputs": [],
   "source": [
    "from utils import load_data\n",
    "import pandas as pd\n",
    "import numpy as np\n",
    "from scipy import sparse\n",
    "import implicit\n",
    "%matplotlib inline"
   ]
  },
  {
   "cell_type": "code",
   "execution_count": 42,
   "id": "4be55210",
   "metadata": {},
   "outputs": [],
   "source": [
    "df = load_data(\"./active1000\")\n",
    "df[\"time\"] = df[\"time\"].apply(\n",
    "    lambda date: pd.Timestamp(date, unit=\"s\", tz=\"Europe/Oslo\")\n",
    ")\n",
    "df.drop(index=df[df.url == \"http://adressa.no\"].index, inplace=True)\n"
   ]
  },
  {
   "cell_type": "code",
   "execution_count": 43,
   "id": "7b6116ac",
   "metadata": {},
   "outputs": [
    {
     "name": "stdout",
     "output_type": "stream",
     "text": [
      "Matrix created with 1000 users and 679355 items\n"
     ]
    }
   ],
   "source": [
    "def dataframe_to_user_item_matrix(df, common_users):\n",
    "    df = df.drop_duplicates(subset=['userId', 'documentId'])\n",
    "    df = df.sort_values(by=['userId', 'time'])\n",
    "\n",
    "    n_users = df['userId'].nunique()\n",
    "    n_items = df['documentId'].count()\n",
    "\n",
    "    ratings = np.zeros((n_users, n_items))\n",
    "\n",
    "    new_user = df['userId'].values[1:] != df['userId'].values[:-1]\n",
    "    new_user = np.r_[True, new_user]\n",
    "\n",
    "    df['uid'] = np.cumsum(new_user)\n",
    "    item_ids = df['documentId'].unique().tolist()\n",
    "\n",
    "    new_df = pd.DataFrame({'documentId': item_ids, 'tid': range(1, len(item_ids) + 1)})\n",
    "\n",
    "    df = pd.merge(df, new_df, on='documentId', how='outer')\n",
    "    df_ext = df[['uid', 'tid']]\n",
    "\n",
    "    users_df = df[df[\"userId\"].isin(common_users)][\"uid\"].unique()\n",
    "    user_ids = set()\n",
    "\n",
    "    for row in df_ext.itertuples():\n",
    "        ratings[row[1] - 1, row[2] - 1] = 1.0\n",
    "\n",
    "        if row[1] in users_df:\n",
    "            user_ids.add(row[1] - 1)\n",
    "\n",
    "    print(f\"Matrix created with {ratings.shape[0]} users and {ratings.shape[1]} items\")\n",
    "    return ratings, user_ids, item_ids\n",
    "\n",
    "user_item_data, common_user_ids, item_ids = dataframe_to_user_item_matrix(df, df['userId'])\n",
    "user_item_data = sparse.csr_matrix(user_item_data)"
   ]
  },
  {
   "cell_type": "code",
   "execution_count": 33,
   "id": "4abfa60a",
   "metadata": {},
   "outputs": [
    {
     "name": "stderr",
     "output_type": "stream",
     "text": [
      "100%|██████████| 15/15 [00:06<00:00,  2.43it/s]\n"
     ]
    }
   ],
   "source": [
    "model = implicit.als.AlternatingLeastSquares(factors=50)\n",
    "model.fit(user_item_data)"
   ]
  },
  {
   "cell_type": "code",
   "execution_count": 44,
   "id": "87b1e004",
   "metadata": {},
   "outputs": [
    {
     "name": "stdout",
     "output_type": "stream",
     "text": [
      "[('dff139999bfd211c174369acab297bf0e72542ba', 0.8169841), ('d967e881e0f31e0041e36748286e648c2c0e6deb', 0.7669275), ('b36546800ae916692cfcbbe0a3685626cbc08dd7', 0.70704335), ('4b66c82c4be5d899376b929dc50a915ae7e66adf', 0.701559), ('094e3ca8251f2a81626da7af88e25ef03ae7bd86', 0.68695766), ('8136cd1ab60e0480c620873342a93dee57c737a2', 0.67059726), ('9c5c3a14fb5632edf4e2cb22d74c15fbf9c74062', 0.6554182), ('ad6c71c5fdf87d6f1eb11ab12182582b01d14fd2', 0.63521385), ('58b7e6996c181156f5b066587fb349f5680dceed', 0.6328052), ('96556526ad338ff1faec5d9d804f80b8a8e18ca3', 0.61792165)]\n"
     ]
    }
   ],
   "source": [
    "recommendations = model.recommend(0, user_item_data[0], filter_already_liked_items=True)\n",
    "ids = list(map(lambda x: item_ids[x], list(recommendations[0])))\n",
    "print(list(zip(ids, list(recommendations[1]))))\n",
    "\n",
    "#print(df[df['documentId'] == ids[0]])"
   ]
  },
  {
   "cell_type": "code",
   "execution_count": 45,
   "id": "11adb3bd",
   "metadata": {},
   "outputs": [
    {
     "data": {
      "text/html": [
       "<div>\n",
       "<style scoped>\n",
       "    .dataframe tbody tr th:only-of-type {\n",
       "        vertical-align: middle;\n",
       "    }\n",
       "\n",
       "    .dataframe tbody tr th {\n",
       "        vertical-align: top;\n",
       "    }\n",
       "\n",
       "    .dataframe thead th {\n",
       "        text-align: right;\n",
       "    }\n",
       "</style>\n",
       "<table border=\"1\" class=\"dataframe\">\n",
       "  <thead>\n",
       "    <tr style=\"text-align: right;\">\n",
       "      <th></th>\n",
       "      <th>eventId</th>\n",
       "      <th>category</th>\n",
       "      <th>activeTime</th>\n",
       "      <th>title</th>\n",
       "      <th>url</th>\n",
       "      <th>userId</th>\n",
       "      <th>publishtime</th>\n",
       "      <th>time</th>\n",
       "      <th>documentId</th>\n",
       "    </tr>\n",
       "  </thead>\n",
       "  <tbody>\n",
       "    <tr>\n",
       "      <th>16839</th>\n",
       "      <td>2102219828</td>\n",
       "      <td>nyheter|trondheim</td>\n",
       "      <td>NaN</td>\n",
       "      <td>Følg Kystad-saken i kontrollkomiteen</td>\n",
       "      <td>http://adressa.no/nyheter/trondheim/2017/03/21...</td>\n",
       "      <td>cx:10k2wzm1b3jsk2y5ym1utnjo97:2kefzqaxe9jx7</td>\n",
       "      <td>2017-03-21T12:46:38.000Z</td>\n",
       "      <td>2017-03-21 17:27:35+01:00</td>\n",
       "      <td>b3a814c5b94fd49685d1e14c526b37c8bc91426a</td>\n",
       "    </tr>\n",
       "    <tr>\n",
       "      <th>16843</th>\n",
       "      <td>1908908574</td>\n",
       "      <td>nyheter|trondheim</td>\n",
       "      <td>1.0</td>\n",
       "      <td>Følg Kystad-saken i kontrollkomiteen</td>\n",
       "      <td>http://adressa.no/nyheter/trondheim/2017/03/21...</td>\n",
       "      <td>cx:10k2wzm1b3jsk2y5ym1utnjo97:2kefzqaxe9jx7</td>\n",
       "      <td>2017-03-21T12:46:38.000Z</td>\n",
       "      <td>2017-03-21 17:27:40+01:00</td>\n",
       "      <td>b3a814c5b94fd49685d1e14c526b37c8bc91426a</td>\n",
       "    </tr>\n",
       "    <tr>\n",
       "      <th>20191</th>\n",
       "      <td>1823302050</td>\n",
       "      <td>nyheter|trondheim</td>\n",
       "      <td>30.0</td>\n",
       "      <td>Følg Kystad-saken i kontrollkomiteen</td>\n",
       "      <td>http://adressa.no/nyheter/trondheim/2017/03/21...</td>\n",
       "      <td>cx:10k2wzm1b3jsk2y5ym1utnjo97:2kefzqaxe9jx7</td>\n",
       "      <td>2017-03-21T12:46:38.000Z</td>\n",
       "      <td>2017-03-21 19:31:10+01:00</td>\n",
       "      <td>b3a814c5b94fd49685d1e14c526b37c8bc91426a</td>\n",
       "    </tr>\n",
       "    <tr>\n",
       "      <th>20248</th>\n",
       "      <td>714858874</td>\n",
       "      <td>nyheter|okonomi</td>\n",
       "      <td>42.0</td>\n",
       "      <td>Jon Uthus slutter i NHO Trøndelag</td>\n",
       "      <td>http://adressa.no/nyheter/okonomi/2017/03/21/j...</td>\n",
       "      <td>cx:10k2wzm1b3jsk2y5ym1utnjo97:2kefzqaxe9jx7</td>\n",
       "      <td>2017-03-21T16:35:30.000Z</td>\n",
       "      <td>2017-03-21 19:32:59+01:00</td>\n",
       "      <td>cca8c05905de83c08cf6d9e9dd5b0ab0a5b3bdc2</td>\n",
       "    </tr>\n",
       "    <tr>\n",
       "      <th>20269</th>\n",
       "      <td>1903458095</td>\n",
       "      <td>pluss|okonomi</td>\n",
       "      <td>148.0</td>\n",
       "      <td>Naboene på Singsaker protesterte mot utbygging...</td>\n",
       "      <td>http://adressa.no/pluss/okonomi/2017/03/21/van...</td>\n",
       "      <td>cx:10k2wzm1b3jsk2y5ym1utnjo97:2kefzqaxe9jx7</td>\n",
       "      <td>2017-03-21T17:16:20.000Z</td>\n",
       "      <td>2017-03-21 19:33:50+01:00</td>\n",
       "      <td>8755fc8cac27dd259bef58e36c955b793c8ee27a</td>\n",
       "    </tr>\n",
       "  </tbody>\n",
       "</table>\n",
       "</div>"
      ],
      "text/plain": [
       "          eventId           category  activeTime  \\\n",
       "16839  2102219828  nyheter|trondheim         NaN   \n",
       "16843  1908908574  nyheter|trondheim         1.0   \n",
       "20191  1823302050  nyheter|trondheim        30.0   \n",
       "20248   714858874    nyheter|okonomi        42.0   \n",
       "20269  1903458095      pluss|okonomi       148.0   \n",
       "\n",
       "                                                   title  \\\n",
       "16839               Følg Kystad-saken i kontrollkomiteen   \n",
       "16843               Følg Kystad-saken i kontrollkomiteen   \n",
       "20191               Følg Kystad-saken i kontrollkomiteen   \n",
       "20248                  Jon Uthus slutter i NHO Trøndelag   \n",
       "20269  Naboene på Singsaker protesterte mot utbygging...   \n",
       "\n",
       "                                                     url  \\\n",
       "16839  http://adressa.no/nyheter/trondheim/2017/03/21...   \n",
       "16843  http://adressa.no/nyheter/trondheim/2017/03/21...   \n",
       "20191  http://adressa.no/nyheter/trondheim/2017/03/21...   \n",
       "20248  http://adressa.no/nyheter/okonomi/2017/03/21/j...   \n",
       "20269  http://adressa.no/pluss/okonomi/2017/03/21/van...   \n",
       "\n",
       "                                            userId               publishtime  \\\n",
       "16839  cx:10k2wzm1b3jsk2y5ym1utnjo97:2kefzqaxe9jx7  2017-03-21T12:46:38.000Z   \n",
       "16843  cx:10k2wzm1b3jsk2y5ym1utnjo97:2kefzqaxe9jx7  2017-03-21T12:46:38.000Z   \n",
       "20191  cx:10k2wzm1b3jsk2y5ym1utnjo97:2kefzqaxe9jx7  2017-03-21T12:46:38.000Z   \n",
       "20248  cx:10k2wzm1b3jsk2y5ym1utnjo97:2kefzqaxe9jx7  2017-03-21T16:35:30.000Z   \n",
       "20269  cx:10k2wzm1b3jsk2y5ym1utnjo97:2kefzqaxe9jx7  2017-03-21T17:16:20.000Z   \n",
       "\n",
       "                           time                                documentId  \n",
       "16839 2017-03-21 17:27:35+01:00  b3a814c5b94fd49685d1e14c526b37c8bc91426a  \n",
       "16843 2017-03-21 17:27:40+01:00  b3a814c5b94fd49685d1e14c526b37c8bc91426a  \n",
       "20191 2017-03-21 19:31:10+01:00  b3a814c5b94fd49685d1e14c526b37c8bc91426a  \n",
       "20248 2017-03-21 19:32:59+01:00  cca8c05905de83c08cf6d9e9dd5b0ab0a5b3bdc2  \n",
       "20269 2017-03-21 19:33:50+01:00  8755fc8cac27dd259bef58e36c955b793c8ee27a  "
      ]
     },
     "execution_count": 45,
     "metadata": {},
     "output_type": "execute_result"
    }
   ],
   "source": [
    "\n",
    "df[df['userId'] == 'cx:10k2wzm1b3jsk2y5ym1utnjo97:2kefzqaxe9jx7'].head()"
   ]
  },
  {
   "cell_type": "code",
   "execution_count": 38,
   "id": "8612c529",
   "metadata": {},
   "outputs": [
    {
     "data": {
      "text/plain": [
       "(array([ 140, 1697, 2606,  710, 2365, 3211, 2508, 1083, 1172, 2835],\n",
       "       dtype=int32),\n",
       " array([0.9999999 , 0.69081384, 0.6547633 , 0.6425652 , 0.6399577 ,\n",
       "        0.6256969 , 0.62289613, 0.61278063, 0.6058873 , 0.6052868 ],\n",
       "       dtype=float32))"
      ]
     },
     "execution_count": 38,
     "metadata": {},
     "output_type": "execute_result"
    }
   ],
   "source": [
    "itemid = 140\n",
    "related = model.similar_items(itemid)\n",
    "related"
   ]
  },
  {
   "cell_type": "code",
   "execution_count": 37,
   "id": "aaa2d01a",
   "metadata": {},
   "outputs": [
    {
     "data": {
      "text/plain": [
       "(array([  1, 630, 617, 246, 645, 685, 757, 842, 559, 880], dtype=int32),\n",
       " array([1.0000001 , 0.6046029 , 0.60427755, 0.5785596 , 0.5541975 ,\n",
       "        0.55398583, 0.5290943 , 0.5240099 , 0.5210381 , 0.5182514 ],\n",
       "       dtype=float32))"
      ]
     },
     "execution_count": 37,
     "metadata": {},
     "output_type": "execute_result"
    }
   ],
   "source": [
    "user_id = 1\n",
    "related_users = model.similar_users(user_id)\n",
    "related_users"
   ]
  },
  {
   "cell_type": "code",
   "execution_count": null,
   "id": "34d691bc",
   "metadata": {},
   "outputs": [],
   "source": []
  }
 ],
 "metadata": {
  "kernelspec": {
   "display_name": "Python 3 (ipykernel)",
   "language": "python",
   "name": "python3"
  },
  "language_info": {
   "codemirror_mode": {
    "name": "ipython",
    "version": 3
   },
   "file_extension": ".py",
   "mimetype": "text/x-python",
   "name": "python",
   "nbconvert_exporter": "python",
   "pygments_lexer": "ipython3",
   "version": "3.9.12"
  }
 },
 "nbformat": 4,
 "nbformat_minor": 5
}
