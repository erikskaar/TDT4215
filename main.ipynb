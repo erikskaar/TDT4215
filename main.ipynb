{
 "cells": [
  {
   "cell_type": "code",
   "execution_count": 59,
   "id": "e5b52485",
   "metadata": {},
   "outputs": [],
   "source": [
    "from utils import load_data\n",
    "import pandas as pd\n",
    "import numpy as np\n",
    "from scipy import sparse\n",
    "import implicit\n",
    "from sklearn.model_selection import train_test_split\n",
    "from implicit import evaluation\n",
    "import matplotlib.pyplot as plt"
   ]
  },
  {
   "cell_type": "code",
   "execution_count": 60,
   "id": "4be55210",
   "metadata": {},
   "outputs": [],
   "source": [
    "df = load_data(\"./active1000\")\n",
    "df[\"time\"] = df[\"time\"].apply(\n",
    "    lambda date: pd.Timestamp(date, unit=\"s\", tz=\"Europe/Oslo\")\n",
    ")\n",
    "df.drop(index=df[df.url == \"http://adressa.no\"].index, inplace=True)\n"
   ]
  },
  {
   "cell_type": "code",
   "execution_count": 61,
   "id": "7b6116ac",
   "metadata": {},
   "outputs": [
    {
     "name": "stdout",
     "output_type": "stream",
     "text": [
      "Matrix created with 1000 users and 679355 items\n"
     ]
    }
   ],
   "source": [
    "def dataframe_to_user_item_matrix(df):\n",
    "    df = df.drop_duplicates(subset=['userId', 'documentId'])\n",
    "    df = df.sort_values(by=['userId', 'time'])\n",
    "\n",
    "    n_users = df['userId'].nunique()\n",
    "    n_items = df['documentId'].count()\n",
    "\n",
    "    ratings = np.zeros((n_users, n_items))\n",
    "\n",
    "    new_user = df['userId'].values[1:] != df['userId'].values[:-1]\n",
    "    new_user = np.r_[True, new_user]\n",
    "\n",
    "    df['uid'] = np.cumsum(new_user)\n",
    "    item_ids = df['documentId'].unique().tolist()\n",
    "\n",
    "    new_df = pd.DataFrame({'documentId': item_ids, 'tid': range(1, len(item_ids) + 1)})\n",
    "\n",
    "    df = pd.merge(df, new_df, on='documentId', how='outer')\n",
    "    user_id_document_df = df[['documentId', 'uid', 'userId']]\n",
    "    df_ext = df[['uid', 'tid']]\n",
    "\n",
    "    users_df = df[\"uid\"].unique()\n",
    "    user_indexes = set()\n",
    "\n",
    "    for row in df_ext.itertuples():\n",
    "        ratings[row[1] - 1, row[2] - 1] = 1.0\n",
    "\n",
    "        if row[1] in users_df:\n",
    "            user_indexes.add(row[1] - 1)\n",
    "\n",
    "    print(f\"Matrix created with {ratings.shape[0]} users and {ratings.shape[1]} items\")\n",
    "    return ratings, user_indexes, item_ids, user_id_document_df\n",
    "\n",
    "user_item_data, user_indexes, item_ids, user_id_document_df = dataframe_to_user_item_matrix(df)\n",
    "\n",
    "user_item_sparse_matrix = sparse.csr_matrix(user_item_data)\n",
    "train_data, test_data = train_test_split(user_item_sparse_matrix, random_state=23, test_size=0.25)"
   ]
  },
  {
   "cell_type": "code",
   "execution_count": 62,
   "id": "4abfa60a",
   "metadata": {},
   "outputs": [
    {
     "name": "stderr",
     "output_type": "stream",
     "text": [
      "100%|██████████| 15/15 [00:04<00:00,  3.08it/s]\n"
     ]
    }
   ],
   "source": [
    "'''\n",
    "fit the model to the training data. factors is set to 50\n",
    "'''\n",
    "model = implicit.als.AlternatingLeastSquares(factors=50)\n",
    "model.fit(train_data)"
   ]
  },
  {
   "cell_type": "code",
   "execution_count": 63,
   "id": "87b1e004",
   "metadata": {},
   "outputs": [
    {
     "name": "stdout",
     "output_type": "stream",
     "text": [
      "[('aa6a5862cb2ae9fb8996f35a692192559b9083e1', 0.7734232), ('0a8c6555c75b8fd530be97356c8b62f6a6a4ad83', 0.76179916), ('1ae48cc9bf00e7a94c6fb70e7beb74ee9b926998', 0.7015698), ('cd625da5a4f18ba4912ce7c6a50340b364c2c7f1', 0.70012295), ('0bad5f842d38601fe714f625d46be941fb27f28c', 0.64581335), ('50c3b54c898d2c76681b4e4c02bad53b7a26b01b', 0.62394536), ('7b37701ba1916986c0d63c074df278f9ea9117cb', 0.6158586), ('b85abfb0937cf948a48ca22758a4e03407bc3fcc', 0.59813803), ('ac5205a07fdf4c863910b102fb7e59dc50cbd440', 0.57713586), ('2ba425ed450c17c98bb10837f6ab902dd3e4df6d', 0.5718752), ('794793820080e2f3949a4a8209de055297004031', 0.5716416), ('dd5cc5ad8c5152fb52600d741fc0f6174a93c8bb', 0.56956136), ('01e4d502d724e6206166c33c0ad50a456282124f', 0.5682805), ('313a73912efab2d1be6d24c6a49cf0562e814d59', 0.56605804), ('0867dbb33bb90970ae48592057be34246a0124ac', 0.5654843), ('60a5adfd53e73e44d1fdd9ed07c890879640b2e6', 0.5597323), ('c5662a24bd7ed7754ca53afb4c5a1df6c60ab16b', 0.5570164), ('06b5e4e1e9b702c590dbe1718bcdbebf9b5038ce', 0.5550839), ('701d08c9626c66acf1bdb39454c3c3de4db5c8e1', 0.55130017), ('f6ee74f5aaf7c73366438cfd80cac1f5f002136a', 0.5512721), ('3580bacc6ca0f02842dedb898871778b4b264c9a', 0.5511961), ('87497bca5ef49ff1ae7bbf31c6b8286bd6c27bf8', 0.55107504), ('b9ad78ebb5acf15b97a2172aae104903e2a41afe', 0.55098933), ('6c2478c824124ec8060a58be8175b2bc6f4ce7b1', 0.5485184), ('e9a8deeda6a04df6afb887619a3a1880250aed7a', 0.54567474), ('d41b9ed04e0cc086481afe72042bf6e636298d0b', 0.54456246), ('a4108a6448e235d895c62807f493d918a9b8125e', 0.542342), ('594d6458ecbd19fbb0657314bb5c742606ef57b9', 0.5418356), ('ae167d304a4ef49e874389abcba68636b0011f85', 0.53155607), ('f1846d55be374246d0b9a76e0027936642ca3f1a', 0.5293101), ('fa3f4c9983712f837925cbfe9bd096d09143a2ac', 0.5288021), ('a1a02c839557bccfec9b32970e26786836d4f837', 0.52866656), ('37bcd74a9f1aafaec15b4e01870c694636076147', 0.52861214), ('a1085cc32a1a03b2c1cb32965afe44440af5b2a1', 0.5283937), ('ffe7344b2550c475de286de0f34da337b1af1851', 0.5260605), ('2febaa0c1a2bb66a3dda745c33ba3da7cc81a55b', 0.5255738), ('764fc962174c526c1d24932ca6951ca37f93d6a2', 0.51724625), ('f09ecebee85eee7fd5a3f14a9c4dcb796341f8ff', 0.51571006), ('c065a4298b0dc55060e4dc6cf62b9467216d42d0', 0.5155127), ('55cb612b1b7f09e817909fb95156ef74f1711b70', 0.51311123), ('1e78b84f637a2032210f638c1e0242821f6d2510', 0.5109549), ('82bab6b33d01bf5c93200ba51fc84283c18da102', 0.50824517), ('b895f16f5af17ee4f3907cecb1c5069f4628ac73', 0.504541), ('b16b516eefb647edec256ad2f9b2c7a897b9785b', 0.5029764), ('92cf23b4733e4ce19f012cbf2a0db25b0a7dd02f', 0.5028507), ('0a1b54d3dc3f6b909675a42971950b3332a99982', 0.502317), ('ec2d7611b28597d8deb98492e1573af27961e6e1', 0.49951681), ('b19df3748e1bc12ab2811038463532a6ca8329a2', 0.4961721), ('5459dad8668dd5458609ceaa89e659d3d1c44c67', 0.4952418), ('9d4e73397c3a64a2dda6d10eb127a3bf8057b380', 0.49389422)]\n"
     ]
    }
   ],
   "source": [
    "'''\n",
    "Create 50 recommendations for the first user. Outputs tuples of document_ids and the rating in the matrix.\n",
    "'''\n",
    "recommendations = model.recommend(0, test_data[0], filter_already_liked_items=True, recalculate_user=True, N=50)\n",
    "ids = list(map(lambda x: item_ids[x], list(recommendations[0])))\n",
    "print(list(zip(ids, list(recommendations[1]))))"
   ]
  },
  {
   "cell_type": "code",
   "execution_count": 78,
   "id": "11adb3bd",
   "metadata": {},
   "outputs": [
    {
     "data": {
      "text/plain": [
       "0.28"
      ]
     },
     "execution_count": 78,
     "metadata": {},
     "output_type": "execute_result"
    }
   ],
   "source": [
    "'''\n",
    "Function for evaluating recall for a certain user. takes in an array of ids that are recommended and a user index in the matrix.\n",
    "'''\n",
    "def evaluate_recall(ids, user_index, max_recommendations):\n",
    "    user_id = user_id_document_df[user_id_document_df.uid == user_index].iloc[0]['userId']\n",
    "    true_positive = 0\n",
    "    total = 0\n",
    "    current_df = user_id_document_df.drop_duplicates(subset=['documentId', 'userId'])\n",
    "    mask = current_df.userId.apply(lambda x: x == user_id)\n",
    "    current_df = current_df[mask]\n",
    "\n",
    "    docs_recommended_properly = []\n",
    "    docs_not_recommended_properly = []\n",
    "\n",
    "    for id in ids:\n",
    "        try:\n",
    "            if current_df[current_df.documentId == id].documentId.values[0] == id:\n",
    "                docs_recommended_properly.append(id)\n",
    "                true_positive += 1\n",
    "        except:\n",
    "            docs_not_recommended_properly.append(id)\n",
    "        total += 1\n",
    "    false_negative = current_df.head(max_recommendations).count().uid - true_positive\n",
    "    #print(\"Recall: \" + str(true_positive / (true_positive + false_negative)) + \"\\n\")\n",
    "    #print(\"True positives: \" + str(docs_recommended_properly))\n",
    "    #print(\"False negatives: \" + str(docs_not_recommended_properly))\n",
    "    return true_positive / (true_positive + false_negative)\n",
    "evaluate_recall(ids, 1, 50)\n",
    "    "
   ]
  },
  {
   "cell_type": "code",
   "execution_count": 79,
   "id": "85cae56b",
   "metadata": {},
   "outputs": [
    {
     "name": "stderr",
     "output_type": "stream",
     "text": [
      "100%|██████████| 250/250 [00:00<00:00, 514.87it/s]\n"
     ]
    },
    {
     "data": {
      "text/plain": [
       "0.29036111111111096"
      ]
     },
     "execution_count": 79,
     "metadata": {},
     "output_type": "execute_result"
    }
   ],
   "source": [
    "'''\n",
    "Built in mean average precision at k in the implicit library.\n",
    "'''\n",
    "evaluation.mean_average_precision_at_k(model, train_data, test_data)"
   ]
  },
  {
   "cell_type": "code",
   "execution_count": 80,
   "id": "bda4523a",
   "metadata": {},
   "outputs": [
    {
     "name": "stdout",
     "output_type": "stream",
     "text": [
      "recalls: [0.28, 0.5, 0.14, 0.34, 0.4, 0.48, 0.3, 0.02, 0.4, 0.3, 0.58, 0.16, 0.52, 0.38, 0.36, 0.46, 0.36, 0.54, 0.42, 0.52, 0.66, 0.62, 0.44, 0.36, 0.24, 0.36, 0.3, 0.16, 0.26, 0.36, 0.62, 0.18, 0.26, 0.32, 0.3, 0.34, 0.22, 0.7, 0.44, 0.38, 0.24, 0.32, 0.54, 0.44, 0.28, 0.4, 0.2, 0.24, 0.62, 0.44, 0.46, 0.2, 0.8, 0.7, 0.54, 0.38, 0.62, 0.3, 0.2, 0.38, 0.44, 0.34, 0.44, 0.42, 0.3, 0.5, 0.54, 0.22, 0.36, 0.36, 0.44, 0.42, 0.36, 0.3, 0.52, 0.52, 0.52, 0.5, 0.6, 0.3, 0.08, 0.4, 0.44, 0.4, 0.36, 0.58, 0.4, 0.4, 0.14, 0.54, 0.66, 0.48, 0.48, 0.52, 0.46, 0.34, 0.3, 0.14, 0.58, 0.12]\n",
      "\n",
      "average recall: 0.39499999999999985\n"
     ]
    }
   ],
   "source": [
    "'''\n",
    "Testing for different recall values on different users with recommendations set to 50\n",
    "'''\n",
    "recalls = []\n",
    "for y in range(0, 100):\n",
    "    recommendations = model.recommend(y, test_data[y], filter_already_liked_items=True, recalculate_user=True, N=50)\n",
    "    ids = list(map(lambda x: item_ids[x], list(recommendations[0])))\n",
    "    recalls.append(evaluate_recall(ids, y+1))\n",
    "print('recalls: ' + str(recalls) + '\\n')\n",
    "print('average recall: ' + str(sum(recalls) / len(recalls)))\n"
   ]
  },
  {
   "cell_type": "code",
   "execution_count": 81,
   "id": "d273c968",
   "metadata": {},
   "outputs": [
    {
     "data": {
      "text/plain": [
       "<BarContainer object of 100 artists>"
      ]
     },
     "execution_count": 81,
     "metadata": {},
     "output_type": "execute_result"
    },
    {
     "data": {
      "image/png": "[encoded data removed]",
      "text/plain": [
       "<Figure size 432x288 with 1 Axes>"
      ]
     },
     "metadata": {
      "needs_background": "light"
     },
     "output_type": "display_data"
    }
   ],
   "source": [
    "plt.ylabel('Recall')\n",
    "plt.xlabel('User index')\n",
    "plt.bar([x for x in range(1, 101)], height=recalls, data=recalls)"
   ]
  },
  {
   "cell_type": "code",
   "execution_count": 82,
   "id": "b4eae110",
   "metadata": {},
   "outputs": [
    {
     "name": "stdout",
     "output_type": "stream",
     "text": [
      "recalls: [1.0, 0.5, 0.3333333333333333, 0.5, 0.4, 0.3333333333333333, 0.2857142857142857, 0.375, 0.3333333333333333, 0.3, 0.36363636363636365, 0.3333333333333333, 0.3076923076923077, 0.2857142857142857, 0.26666666666666666, 0.3125, 0.29411764705882354, 0.2777777777777778, 0.2631578947368421, 0.25, 0.23809523809523808, 0.2727272727272727, 0.2608695652173913, 0.25, 0.28, 0.2692307692307692, 0.25925925925925924, 0.25, 0.2413793103448276, 0.23333333333333334, 0.22580645161290322, 0.21875, 0.24242424242424243, 0.2647058823529412, 0.2857142857142857, 0.3055555555555556, 0.2972972972972973, 0.2894736842105263, 0.28205128205128205, 0.3, 0.2926829268292683, 0.2857142857142857, 0.3023255813953488, 0.29545454545454547, 0.28888888888888886, 0.30434782608695654, 0.2978723404255319, 0.2916666666666667, 0.2857142857142857, 0.28, 0.29411764705882354, 0.28846153846153844, 0.2830188679245283, 0.2777777777777778, 0.2727272727272727, 0.26785714285714285, 0.2631578947368421, 0.25862068965517243, 0.2711864406779661, 0.26666666666666666, 0.2786885245901639, 0.2903225806451613, 0.2857142857142857, 0.28125, 0.27692307692307694, 0.2727272727272727, 0.26865671641791045, 0.27941176470588236, 0.2753623188405797, 0.2714285714285714, 0.2676056338028169, 0.2638888888888889, 0.2602739726027397, 0.25675675675675674, 0.25333333333333335, 0.25, 0.24675324675324675, 0.2564102564102564, 0.25316455696202533, 0.2625, 0.25925925925925924, 0.25609756097560976, 0.25301204819277107, 0.2619047619047619, 0.25882352941176473, 0.2558139534883721, 0.26436781609195403, 0.26136363636363635, 0.25842696629213485, 0.26666666666666666, 0.26373626373626374, 0.2608695652173913, 0.25806451612903225, 0.26595744680851063, 0.2736842105263158, 0.2708333333333333, 0.26804123711340205, 0.2653061224489796, 0.26262626262626265, 0.26]\n",
      "\n",
      "average recall: 0.2884627019156671\n"
     ]
    }
   ],
   "source": [
    "'''\n",
    "Testing for different recall values on different number of recommendations for the same user\n",
    "'''\n",
    "recalls = []\n",
    "for x in range(1, 101):\n",
    "    recommendations = model.recommend(0, test_data[0], filter_already_liked_items=True, recalculate_user=True, N=x)\n",
    "    ids = list(map(lambda x: item_ids[x], list(recommendations[0])))\n",
    "    recalls.append(evaluate_recall(ids, 1, x))\n",
    "print('recalls: ' + str(recalls) + '\\n')\n",
    "print('average recall: ' + str(sum(recalls) / len(recalls)))\n"
   ]
  },
  {
   "cell_type": "code",
   "execution_count": 83,
   "id": "eada9554",
   "metadata": {},
   "outputs": [
    {
     "data": {
      "text/plain": [
       "<BarContainer object of 100 artists>"
      ]
     },
     "execution_count": 83,
     "metadata": {},
     "output_type": "execute_result"
    },
    {
     "data": {
      "image/png": "[encoded data removed]",
      "text/plain": [
       "<Figure size 432x288 with 1 Axes>"
      ]
     },
     "metadata": {
      "needs_background": "light"
     },
     "output_type": "display_data"
    }
   ],
   "source": [
    "plt.ylabel('Recall')\n",
    "plt.xlabel('Number of recommendations')\n",
    "plt.bar([x for x in range(1, 101)], height=recalls, data=recalls)"
   ]
  },
  {
   "cell_type": "code",
   "execution_count": 84,
   "id": "a3f4e6a3",
   "metadata": {},
   "outputs": [],
   "source": [
    "def MRR(ids, user_index):\n",
    "    user_id = user_id_document_df[user_id_document_df.uid == user_index].iloc[0]['userId']\n",
    "    current_df = user_id_document_df.drop_duplicates(subset=['documentId', 'userId'])\n",
    "    mask = current_df.userId.apply(lambda x: x == user_id)\n",
    "    current_df = current_df[mask]\n",
    "    ranks = []\n",
    "\n",
    "    for index,id in enumerate(ids):\n",
    "        try:\n",
    "            if current_df[current_df.documentId == id].documentId.values[0] == id:\n",
    "                ranks.append(1/index)\n",
    "        except:\n",
    "            ranks.append(0)\n",
    "    return sum(ranks) / len(ranks)"
   ]
  },
  {
   "cell_type": "code",
   "execution_count": 85,
   "id": "225904d3",
   "metadata": {},
   "outputs": [
    {
     "name": "stdout",
     "output_type": "stream",
     "text": [
      "MRRs: [0.0184670370479194, 0.048285883790997845, 0.02559509713228492, 0.021653341373380673, 0.053944644950696584, 0.046012568130889664, 0.025939111670822787, 0.02, 0.04732045944881793, 0.019788971682188353, 0.04028129624154565, 0.014911477411477412, 0.053507864922470734, 0.037381047736399324, 0.03218726932529453, 0.028179053198839444, 0.04236019981126369, 0.044041615023248326, 0.0338481776004745, 0.05840130277706002, 0.04555891589840529, 0.06716223810433371, 0.04619556129400564, 0.04610282267992391, 0.03605154167857566, 0.028834964895772877, 0.034313325833365126, 0.011565779200302191, 0.033123216969776804, 0.04282785514951688, 0.04441664358037643, 0.008303583404899196, 0.03375275339149052, 0.023392251188728265, 0.0181867395500143, 0.03860432288143426, 0.015036499448264153, 0.07532692801555027, 0.057208147913478814, 0.047112800511518345, 0.039898266336346834, 0.04310652296996872, 0.034753190633230166, 0.04149692587300856, 0.017026061523205925, 0.043241947475730506, 0.011780324664915458, 0.01504932505872606, 0.054233956833913036, 0.03346630948353777, 0.03368852199219913, 0.013128998206109592, 0.0661031733863368, 0.06861703478242134, 0.04251270434678076, 0.04391465662053898, 0.05331172987734481, 0.039803669836926486, 0.029027521884720024, 0.026068466222301603, 0.030654364332144312, 0.020496172190958433, 0.05368620123521747, 0.037338891696924476, 0.018164003923078334, 0.06969040612827265, 0.05616643922741491, 0.0157453994334948, 0.029336273572779667, 0.024870230070765977, 0.04057687742082401, 0.052962107306859456, 0.019345118565376008, 0.020677764214466387, 0.05817211481730555, 0.041527269691352495, 0.06577161918512023, 0.05049189609668721, 0.053031787938162045, 0.019469460245601523, 0.023145363408521306, 0.039324517311817526, 0.05406180308876839, 0.04997150345201661, 0.05297175601122969, 0.06882770646046707, 0.02126320301473887, 0.04471066256564347, 0.01093978037786087, 0.06902076363783176, 0.06990095303728314, 0.054969959847498195, 0.061290058226398464, 0.05739076197046371, 0.03893884825603325, 0.031240275511148715, 0.02006569697032706, 0.007817951625094483, 0.062127068649627554, 0.009739393939393938]\n",
      "\n",
      "average MRR: 0.03841305043529037\n"
     ]
    }
   ],
   "source": [
    "'''\n",
    "Testing for different MRR values on different users with recommendations set to 50\n",
    "'''\n",
    "MRRs = []\n",
    "for y in range(0, 100):\n",
    "    recommendations = model.recommend(y, test_data[y], filter_already_liked_items=True, recalculate_user=True, N=50)\n",
    "    ids = list(map(lambda x: item_ids[x], list(recommendations[0])))\n",
    "    MRRs.append(MRR(ids, y+1))\n",
    "print('MRRs: ' + str(MRRs) + '\\n')\n",
    "print('average MRR: ' + str(sum(MRRs) / len(MRRs)))"
   ]
  },
  {
   "cell_type": "code",
   "execution_count": 87,
   "id": "97bdc53d",
   "metadata": {},
   "outputs": [
    {
     "data": {
      "text/plain": [
       "<BarContainer object of 100 artists>"
      ]
     },
     "execution_count": 87,
     "metadata": {},
     "output_type": "execute_result"
    },
    {
     "data": {
      "image/png": "[encoded data removed]",
      "text/plain": [
       "<Figure size 432x288 with 1 Axes>"
      ]
     },
     "metadata": {
      "needs_background": "light"
     },
     "output_type": "display_data"
    }
   ],
   "source": [
    "plt.ylabel('MRR')\n",
    "plt.xlabel('User index')\n",
    "plt.bar([x for x in range(1, 101)], height=MRRs, data=MRRs)"
   ]
  }
 ],
 "metadata": {
  "kernelspec": {
   "display_name": "Python 3 (ipykernel)",
   "language": "python",
   "name": "python3"
  },
  "language_info": {
   "codemirror_mode": {
    "name": "ipython",
    "version": 3
   },
   "file_extension": ".py",
   "mimetype": "text/x-python",
   "name": "python",
   "nbconvert_exporter": "python",
   "pygments_lexer": "ipython3",
   "version": "3.9.12"
  }
 },
 "nbformat": 4,
 "nbformat_minor": 5
}
