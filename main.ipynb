{
 "cells": [
  {
   "cell_type": "code",
   "execution_count": 1,
   "id": "e5b52485",
   "metadata": {},
   "outputs": [
    {
     "name": "stderr",
     "output_type": "stream",
     "text": [
      "/usr/local/lib/python3.9/site-packages/tqdm/auto.py:22: TqdmWarning: IProgress not found. Please update jupyter and ipywidgets. See https://ipywidgets.readthedocs.io/en/stable/user_install.html\n",
      "  from .autonotebook import tqdm as notebook_tqdm\n"
     ]
    }
   ],
   "source": [
    "from utils import load_data\n",
    "import pandas as pd\n",
    "import numpy as np\n",
    "from scipy import sparse\n",
    "import implicit\n",
    "from sklearn.model_selection import train_test_split\n",
    "from implicit import evaluation"
   ]
  },
  {
   "cell_type": "code",
   "execution_count": 2,
   "id": "4be55210",
   "metadata": {},
   "outputs": [],
   "source": [
    "df = load_data(\"./active1000\")\n",
    "df[\"time\"] = df[\"time\"].apply(\n",
    "    lambda date: pd.Timestamp(date, unit=\"s\", tz=\"Europe/Oslo\")\n",
    ")\n",
    "df.drop(index=df[df.url == \"http://adressa.no\"].index, inplace=True)\n"
   ]
  },
  {
   "cell_type": "code",
   "execution_count": 3,
   "id": "7b6116ac",
   "metadata": {},
   "outputs": [
    {
     "name": "stdout",
     "output_type": "stream",
     "text": [
      "Matrix created with 1000 users and 679355 items\n"
     ]
    }
   ],
   "source": [
    "def dataframe_to_user_item_matrix(df):\n",
    "    df = df.drop_duplicates(subset=['userId', 'documentId'])\n",
    "    df = df.sort_values(by=['userId', 'time'])\n",
    "\n",
    "    n_users = df['userId'].nunique()\n",
    "    n_items = df['documentId'].count()\n",
    "\n",
    "    ratings = np.zeros((n_users, n_items))\n",
    "\n",
    "    new_user = df['userId'].values[1:] != df['userId'].values[:-1]\n",
    "    new_user = np.r_[True, new_user]\n",
    "\n",
    "    df['uid'] = np.cumsum(new_user)\n",
    "    item_ids = df['documentId'].unique().tolist()\n",
    "\n",
    "    new_df = pd.DataFrame({'documentId': item_ids, 'tid': range(1, len(item_ids) + 1)})\n",
    "\n",
    "    df = pd.merge(df, new_df, on='documentId', how='outer')\n",
    "    user_id_document_df = df[['documentId', 'uid', 'userId']]\n",
    "    df_ext = df[['uid', 'tid']]\n",
    "\n",
    "    users_df = df[\"uid\"].unique()\n",
    "    user_indexes = set()\n",
    "\n",
    "    for row in df_ext.itertuples():\n",
    "        ratings[row[1] - 1, row[2] - 1] = 1.0\n",
    "\n",
    "        if row[1] in users_df:\n",
    "            user_indexes.add(row[1] - 1)\n",
    "\n",
    "    print(f\"Matrix created with {ratings.shape[0]} users and {ratings.shape[1]} items\")\n",
    "    return ratings, user_indexes, item_ids, user_id_document_df\n",
    "\n",
    "user_item_data, user_indexes, item_ids, user_id_document_df = dataframe_to_user_item_matrix(df)\n",
    "\n",
    "user_item_sparse_matrix = sparse.csr_matrix(user_item_data)\n",
    "train_data, test_data = train_test_split(user_item_sparse_matrix, random_state=23, test_size=0.25)"
   ]
  },
  {
   "cell_type": "code",
   "execution_count": 12,
   "id": "4abfa60a",
   "metadata": {},
   "outputs": [
    {
     "name": "stderr",
     "output_type": "stream",
     "text": [
      "100%|██████████| 15/15 [00:05<00:00,  2.72it/s]\n"
     ]
    }
   ],
   "source": [
    "model = implicit.als.AlternatingLeastSquares(factors=50)\n",
    "model.fit(train_data)"
   ]
  },
  {
   "cell_type": "code",
   "execution_count": 13,
   "id": "87b1e004",
   "metadata": {},
   "outputs": [
    {
     "name": "stdout",
     "output_type": "stream",
     "text": [
      "[('aa6a5862cb2ae9fb8996f35a692192559b9083e1', 0.81256396), ('1ae48cc9bf00e7a94c6fb70e7beb74ee9b926998', 0.7481092), ('0a8c6555c75b8fd530be97356c8b62f6a6a4ad83', 0.7294731), ('cd625da5a4f18ba4912ce7c6a50340b364c2c7f1', 0.71077603), ('50c3b54c898d2c76681b4e4c02bad53b7a26b01b', 0.6657554), ('0bad5f842d38601fe714f625d46be941fb27f28c', 0.66435087), ('b85abfb0937cf948a48ca22758a4e03407bc3fcc', 0.6485416), ('7b37701ba1916986c0d63c074df278f9ea9117cb', 0.584767), ('55cb612b1b7f09e817909fb95156ef74f1711b70', 0.58449745), ('794793820080e2f3949a4a8209de055297004031', 0.5767855), ('01e4d502d724e6206166c33c0ad50a456282124f', 0.5730588), ('594d6458ecbd19fbb0657314bb5c742606ef57b9', 0.57183325), ('701d08c9626c66acf1bdb39454c3c3de4db5c8e1', 0.5632589), ('92cf23b4733e4ce19f012cbf2a0db25b0a7dd02f', 0.5602349), ('2febaa0c1a2bb66a3dda745c33ba3da7cc81a55b', 0.5600884), ('b9ad78ebb5acf15b97a2172aae104903e2a41afe', 0.55728364), ('ac5205a07fdf4c863910b102fb7e59dc50cbd440', 0.5561685), ('c065a4298b0dc55060e4dc6cf62b9467216d42d0', 0.55353534), ('37bcd74a9f1aafaec15b4e01870c694636076147', 0.5498567), ('82bab6b33d01bf5c93200ba51fc84283c18da102', 0.5491846), ('ffe7344b2550c475de286de0f34da337b1af1851', 0.5445156), ('14e07e0abfcdc157d09a6c8b054c276450b73f34', 0.5441091), ('b6906e4319f5575711df3a724bcb2c243a35fb0e', 0.54040253), ('6c2478c824124ec8060a58be8175b2bc6f4ce7b1', 0.53932464), ('8875d9afd4acbb01e43908b23170424a34cccce3', 0.53679687), ('2ba425ed450c17c98bb10837f6ab902dd3e4df6d', 0.5355557), ('d41b9ed04e0cc086481afe72042bf6e636298d0b', 0.53446597), ('06b5e4e1e9b702c590dbe1718bcdbebf9b5038ce', 0.52748895), ('60a5adfd53e73e44d1fdd9ed07c890879640b2e6', 0.5246412), ('87497bca5ef49ff1ae7bbf31c6b8286bd6c27bf8', 0.5243073), ('764fc962174c526c1d24932ca6951ca37f93d6a2', 0.52129024), ('b0908a48c197923cab39f76e1b90746ceb6f0aed', 0.52103597), ('a4108a6448e235d895c62807f493d918a9b8125e', 0.5206932), ('f1846d55be374246d0b9a76e0027936642ca3f1a', 0.5184764), ('c5662a24bd7ed7754ca53afb4c5a1df6c60ab16b', 0.5177107), ('f6ee74f5aaf7c73366438cfd80cac1f5f002136a', 0.5138986), ('dd5cc5ad8c5152fb52600d741fc0f6174a93c8bb', 0.50903493), ('0a1b54d3dc3f6b909675a42971950b3332a99982', 0.5079537), ('a1a02c839557bccfec9b32970e26786836d4f837', 0.50657666), ('6c646b341f8eb6c625e7ab941be280577358e7bc', 0.5035873), ('0be53aea9142297582a62608b9c58a69bf6ffb6f', 0.5018317), ('a1085cc32a1a03b2c1cb32965afe44440af5b2a1', 0.5017487), ('0867dbb33bb90970ae48592057be34246a0124ac', 0.5001988), ('3580bacc6ca0f02842dedb898871778b4b264c9a', 0.49878982), ('2b6a756baea24d1804807cb4001b1da239bb448a', 0.4931525), ('fa3f4c9983712f837925cbfe9bd096d09143a2ac', 0.49186468), ('313a73912efab2d1be6d24c6a49cf0562e814d59', 0.49121752), ('e9a8deeda6a04df6afb887619a3a1880250aed7a', 0.49037388), ('806e95b63db4315a44c3ea8495f0d64f3db6f146', 0.48894608), ('b6f08e0fe6567ed39d3b244f2afeceef43e0dbd3', 0.48506784)]\n"
     ]
    }
   ],
   "source": [
    "recommendations = model.recommend(0, test_data[0], filter_already_liked_items=True, recalculate_user=True, N=50)\n",
    "ids = list(map(lambda x: item_ids[x], list(recommendations[0])))\n",
    "print(list(zip(ids, list(recommendations[1]))))"
   ]
  },
  {
   "cell_type": "code",
   "execution_count": 17,
   "id": "11adb3bd",
   "metadata": {},
   "outputs": [
    {
     "data": {
      "text/plain": [
       "0.02073365231259968"
      ]
     },
     "execution_count": 17,
     "metadata": {},
     "output_type": "execute_result"
    }
   ],
   "source": [
    "\n",
    "def evaluate_recall(ids, user_index):\n",
    "    user_id = user_id_document_df[user_id_document_df.uid == user_index].iloc[0]['userId']\n",
    "    true_positive = 0\n",
    "    total = 0\n",
    "    current_df = user_id_document_df.drop_duplicates(subset=['documentId', 'userId'])\n",
    "    mask = current_df.userId.apply(lambda x: x == user_id)\n",
    "    current_df = current_df[mask]\n",
    "\n",
    "    docs_recommended_properly = []\n",
    "    docs_not_recommended_properly = []\n",
    "\n",
    "    for id in ids:\n",
    "        try:\n",
    "            if current_df[current_df.documentId == id].documentId.values[0] == id:\n",
    "                docs_recommended_properly.append(id)\n",
    "                true_positive += 1\n",
    "        except:\n",
    "            docs_not_recommended_properly.append(id)\n",
    "        total += 1\n",
    "    false_negative = current_df.count().uid - true_positive\n",
    "    #print(\"Recall: \" + str(true_positive / (true_positive + false_negative)) + \"\\n\")\n",
    "    #print(\"True positives: \" + str(docs_recommended_properly))\n",
    "    #print(\"False positives: \" + str(docs_not_recommended_properly))\n",
    "    return true_positive / (true_positive + false_negative)\n",
    "evaluate_recall(ids, 1)\n",
    "    "
   ]
  },
  {
   "cell_type": "code",
   "execution_count": 15,
   "id": "85cae56b",
   "metadata": {},
   "outputs": [
    {
     "name": "stderr",
     "output_type": "stream",
     "text": [
      "100%|██████████| 250/250 [00:00<00:00, 554.31it/s]\n"
     ]
    },
    {
     "data": {
      "text/plain": [
       "0.27094682539682524"
      ]
     },
     "execution_count": 15,
     "metadata": {},
     "output_type": "execute_result"
    }
   ],
   "source": [
    "evaluation.mean_average_precision_at_k(model, train_data, test_data)"
   ]
  },
  {
   "cell_type": "code",
   "execution_count": 22,
   "id": "bda4523a",
   "metadata": {},
   "outputs": [
    {
     "name": "stdout",
     "output_type": "stream",
     "text": [
      "recalls: [0.02073365231259968, 0.03682170542635659, 0.025252525252525252, 0.03937007874015748, 0.040973111395646605, 0.04525547445255475, 0.037578288100208766, 0.02127659574468085, 0.03008849557522124, 0.035, 0.047493403693931395, 0.010101010101010102, 0.03180212014134275, 0.024886877828054297, 0.03676470588235294, 0.03547671840354767, 0.04483430799220273, 0.024746906636670417, 0.02962962962962963, 0.03861003861003861]\n",
      "\n",
      "average recall: 0.032834782295936595\n"
     ]
    }
   ],
   "source": [
    "'''\n",
    "Testing for different recall values on different users\n",
    "'''\n",
    "recalls = []\n",
    "for x in range(0, 20):\n",
    "    recommendations = model.recommend(0, test_data[0], filter_already_liked_items=True, recalculate_user=True, N=50)\n",
    "    recalls.append(evaluate_recall(ids, x+1))\n",
    "print('recalls: ' + str(recalls) + '\\n')\n",
    "print('average recall: ' + str(sum(recalls) / len(recalls)))\n",
    "\n",
    "    "
   ]
  }
 ],
 "metadata": {
  "kernelspec": {
   "display_name": "Python 3 (ipykernel)",
   "language": "python",
   "name": "python3"
  },
  "language_info": {
   "codemirror_mode": {
    "name": "ipython",
    "version": 3
   },
   "file_extension": ".py",
   "mimetype": "text/x-python",
   "name": "python",
   "nbconvert_exporter": "python",
   "pygments_lexer": "ipython3",
   "version": "3.9.12"
  }
 },
 "nbformat": 4,
 "nbformat_minor": 5
}
