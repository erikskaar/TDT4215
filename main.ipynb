{
 "cells": [
  {
   "cell_type": "code",
   "execution_count": 42,
   "id": "e5b52485",
   "metadata": {},
   "outputs": [],
   "source": [
    "from utils import load_data\n",
    "import pandas as pd\n",
    "import numpy as np\n",
    "from scipy import sparse\n",
    "import implicit\n",
    "from sklearn.model_selection import train_test_split\n",
    "from implicit import evaluation\n",
    "import matplotlib.pyplot as plt"
   ]
  },
  {
   "cell_type": "code",
   "execution_count": 43,
   "id": "4be55210",
   "metadata": {},
   "outputs": [],
   "source": [
    "df = load_data(\"./active1000\")\n",
    "df[\"time\"] = df[\"time\"].apply(\n",
    "    lambda date: pd.Timestamp(date, unit=\"s\", tz=\"Europe/Oslo\")\n",
    ")\n",
    "df.drop(index=df[df.url == \"http://adressa.no\"].index, inplace=True)\n"
   ]
  },
  {
   "cell_type": "code",
   "execution_count": 44,
   "id": "7b6116ac",
   "metadata": {},
   "outputs": [
    {
     "name": "stdout",
     "output_type": "stream",
     "text": [
      "Matrix created with 1000 users and 679355 items\n"
     ]
    }
   ],
   "source": [
    "def dataframe_to_user_item_matrix(df):\n",
    "    df = df.drop_duplicates(subset=['userId', 'documentId'])\n",
    "    df = df.sort_values(by=['userId', 'time'])\n",
    "\n",
    "    n_users = df['userId'].nunique()\n",
    "    n_items = df['documentId'].count()\n",
    "\n",
    "    ratings = np.zeros((n_users, n_items))\n",
    "\n",
    "    new_user = df['userId'].values[1:] != df['userId'].values[:-1]\n",
    "    new_user = np.r_[True, new_user]\n",
    "\n",
    "    df['uid'] = np.cumsum(new_user)\n",
    "    item_ids = df['documentId'].unique().tolist()\n",
    "\n",
    "    new_df = pd.DataFrame({'documentId': item_ids, 'tid': range(1, len(item_ids) + 1)})\n",
    "\n",
    "    df = pd.merge(df, new_df, on='documentId', how='outer')\n",
    "    user_id_document_df = df[['documentId', 'uid', 'userId']]\n",
    "    df_ext = df[['uid', 'tid']]\n",
    "\n",
    "    users_df = df[\"uid\"].unique()\n",
    "    user_indexes = set()\n",
    "\n",
    "    for row in df_ext.itertuples():\n",
    "        ratings[row[1] - 1, row[2] - 1] = 1.0\n",
    "\n",
    "        if row[1] in users_df:\n",
    "            user_indexes.add(row[1] - 1)\n",
    "\n",
    "    print(f\"Matrix created with {ratings.shape[0]} users and {ratings.shape[1]} items\")\n",
    "    return ratings, user_indexes, item_ids, user_id_document_df\n",
    "\n",
    "user_item_data, user_indexes, item_ids, user_id_document_df = dataframe_to_user_item_matrix(df)\n",
    "\n",
    "user_item_sparse_matrix = sparse.csr_matrix(user_item_data)\n",
    "train_data, test_data = train_test_split(user_item_sparse_matrix, random_state=23, test_size=0.25)"
   ]
  },
  {
   "cell_type": "code",
   "execution_count": 45,
   "id": "4abfa60a",
   "metadata": {},
   "outputs": [
    {
     "name": "stderr",
     "output_type": "stream",
     "text": [
      "100%|██████████| 15/15 [00:04<00:00,  3.09it/s]\n"
     ]
    }
   ],
   "source": [
    "model = implicit.als.AlternatingLeastSquares(factors=50)\n",
    "model.fit(train_data)"
   ]
  },
  {
   "cell_type": "code",
   "execution_count": 46,
   "id": "87b1e004",
   "metadata": {},
   "outputs": [
    {
     "name": "stdout",
     "output_type": "stream",
     "text": [
      "[('aa6a5862cb2ae9fb8996f35a692192559b9083e1', 0.808554), ('0a8c6555c75b8fd530be97356c8b62f6a6a4ad83', 0.782723), ('0bad5f842d38601fe714f625d46be941fb27f28c', 0.6679427), ('1ae48cc9bf00e7a94c6fb70e7beb74ee9b926998', 0.665044), ('50c3b54c898d2c76681b4e4c02bad53b7a26b01b', 0.65843374), ('cd625da5a4f18ba4912ce7c6a50340b364c2c7f1', 0.63767695), ('01e4d502d724e6206166c33c0ad50a456282124f', 0.63278866), ('7b37701ba1916986c0d63c074df278f9ea9117cb', 0.6207638), ('2febaa0c1a2bb66a3dda745c33ba3da7cc81a55b', 0.5882487), ('e9a8deeda6a04df6afb887619a3a1880250aed7a', 0.5858353), ('60a5adfd53e73e44d1fdd9ed07c890879640b2e6', 0.5720585), ('1e78b84f637a2032210f638c1e0242821f6d2510', 0.5717564), ('b85abfb0937cf948a48ca22758a4e03407bc3fcc', 0.5675347), ('92cf23b4733e4ce19f012cbf2a0db25b0a7dd02f', 0.5647539), ('b9ad78ebb5acf15b97a2172aae104903e2a41afe', 0.5618984), ('dd5cc5ad8c5152fb52600d741fc0f6174a93c8bb', 0.5609788), ('2ba425ed450c17c98bb10837f6ab902dd3e4df6d', 0.5603115), ('a4108a6448e235d895c62807f493d918a9b8125e', 0.5587032), ('ac5205a07fdf4c863910b102fb7e59dc50cbd440', 0.5572198), ('3580bacc6ca0f02842dedb898871778b4b264c9a', 0.55129755), ('594d6458ecbd19fbb0657314bb5c742606ef57b9', 0.5479885), ('c5662a24bd7ed7754ca53afb4c5a1df6c60ab16b', 0.54678625), ('794793820080e2f3949a4a8209de055297004031', 0.5460366), ('37bcd74a9f1aafaec15b4e01870c694636076147', 0.54516584), ('87497bca5ef49ff1ae7bbf31c6b8286bd6c27bf8', 0.5430746), ('ffe7344b2550c475de286de0f34da337b1af1851', 0.53601474), ('f1846d55be374246d0b9a76e0027936642ca3f1a', 0.53477), ('0867dbb33bb90970ae48592057be34246a0124ac', 0.5343402), ('701d08c9626c66acf1bdb39454c3c3de4db5c8e1', 0.5329714), ('82bab6b33d01bf5c93200ba51fc84283c18da102', 0.5273093), ('55cb612b1b7f09e817909fb95156ef74f1711b70', 0.52597743), ('a1085cc32a1a03b2c1cb32965afe44440af5b2a1', 0.5233197), ('b0908a48c197923cab39f76e1b90746ceb6f0aed', 0.521223), ('cdb052aea204bf1b2b27d6173a33b078b3f96cc6', 0.5168451), ('f6ee74f5aaf7c73366438cfd80cac1f5f002136a', 0.5160197), ('764fc962174c526c1d24932ca6951ca37f93d6a2', 0.5135997), ('313a73912efab2d1be6d24c6a49cf0562e814d59', 0.51079315), ('06b5e4e1e9b702c590dbe1718bcdbebf9b5038ce', 0.5096536), ('ec2d7611b28597d8deb98492e1573af27961e6e1', 0.5079377), ('6c2478c824124ec8060a58be8175b2bc6f4ce7b1', 0.50627726), ('fa3f4c9983712f837925cbfe9bd096d09143a2ac', 0.50510985), ('a1a02c839557bccfec9b32970e26786836d4f837', 0.5034418), ('5f0cde8f34c1a618523d8e9994d2555647a262ac', 0.49797392), ('d41b9ed04e0cc086481afe72042bf6e636298d0b', 0.49763808), ('6c646b341f8eb6c625e7ab941be280577358e7bc', 0.49727628), ('094e3ca8251f2a81626da7af88e25ef03ae7bd86', 0.4966865), ('b6f08e0fe6567ed39d3b244f2afeceef43e0dbd3', 0.49232322), ('0be53aea9142297582a62608b9c58a69bf6ffb6f', 0.49127433), ('b16b516eefb647edec256ad2f9b2c7a897b9785b', 0.49027517), ('14e07e0abfcdc157d09a6c8b054c276450b73f34', 0.48976058)]\n"
     ]
    }
   ],
   "source": [
    "recommendations = model.recommend(0, test_data[0], filter_already_liked_items=True, recalculate_user=True, N=50)\n",
    "ids = list(map(lambda x: item_ids[x], list(recommendations[0])))\n",
    "print(list(zip(ids, list(recommendations[1]))))"
   ]
  },
  {
   "cell_type": "code",
   "execution_count": 47,
   "id": "11adb3bd",
   "metadata": {},
   "outputs": [
    {
     "data": {
      "text/plain": [
       "0.019138755980861243"
      ]
     },
     "execution_count": 47,
     "metadata": {},
     "output_type": "execute_result"
    }
   ],
   "source": [
    "\n",
    "def evaluate_recall(ids, user_index):\n",
    "    user_id = user_id_document_df[user_id_document_df.uid == user_index].iloc[0]['userId']\n",
    "    true_positive = 0\n",
    "    total = 0\n",
    "    current_df = user_id_document_df.drop_duplicates(subset=['documentId', 'userId'])\n",
    "    mask = current_df.userId.apply(lambda x: x == user_id)\n",
    "    current_df = current_df[mask]\n",
    "\n",
    "    docs_recommended_properly = []\n",
    "    docs_not_recommended_properly = []\n",
    "\n",
    "    for id in ids:\n",
    "        try:\n",
    "            if current_df[current_df.documentId == id].documentId.values[0] == id:\n",
    "                docs_recommended_properly.append(id)\n",
    "                true_positive += 1\n",
    "        except:\n",
    "            docs_not_recommended_properly.append(id)\n",
    "        total += 1\n",
    "    false_negative = current_df.count().uid - true_positive\n",
    "    #print(\"Recall: \" + str(true_positive / (true_positive + false_negative)) + \"\\n\")\n",
    "    #print(\"True positives: \" + str(docs_recommended_properly))\n",
    "    #print(\"False positives: \" + str(docs_not_recommended_properly))\n",
    "    return true_positive / (true_positive + false_negative)\n",
    "evaluate_recall(ids, 1)\n",
    "    "
   ]
  },
  {
   "cell_type": "code",
   "execution_count": 48,
   "id": "85cae56b",
   "metadata": {},
   "outputs": [
    {
     "name": "stderr",
     "output_type": "stream",
     "text": [
      "100%|██████████| 250/250 [00:00<00:00, 571.52it/s]\n"
     ]
    },
    {
     "data": {
      "text/plain": [
       "0.2921287301587302"
      ]
     },
     "execution_count": 48,
     "metadata": {},
     "output_type": "execute_result"
    }
   ],
   "source": [
    "evaluation.mean_average_precision_at_k(model, train_data, test_data)"
   ]
  },
  {
   "cell_type": "code",
   "execution_count": 53,
   "id": "bda4523a",
   "metadata": {},
   "outputs": [
    {
     "name": "stdout",
     "output_type": "stream",
     "text": [
      "recalls: [0.019138755980861243, 0.04263565891472868, 0.03535353535353535, 0.03543307086614173, 0.026888604353393086, 0.03795620437956204, 0.029227557411273485, 0.0070921985815602835, 0.03716814159292035, 0.0325, 0.07651715039577836, 0.022727272727272728, 0.02591283863368669, 0.04072398190045249, 0.025, 0.05543237250554324, 0.031189083820662766, 0.031496062992125984, 0.024691358024691357, 0.03474903474903475, 0.04296875, 0.024267782426778243, 0.026988636363636364, 0.02491103202846975, 0.017142857142857144, 0.034482758620689655, 0.03177966101694915, 0.018947368421052633, 0.0391566265060241, 0.03773584905660377, 0.04895104895104895, 0.014925373134328358, 0.023121387283236993, 0.019629225736095966, 0.0165016501650165, 0.0313588850174216, 0.013126491646778043, 0.03654080389768575, 0.02531645569620253, 0.03518518518518519, 0.027600849256900213, 0.03865979381443299, 0.039705882352941174, 0.029914529914529916, 0.034623217922606926, 0.05116279069767442, 0.019642857142857142, 0.024886877828054297, 0.025892857142857145, 0.030428769017980636, 0.04019292604501608, 0.017316017316017316, 0.02451288497800126, 0.039503386004514675, 0.0352760736196319, 0.042986425339366516, 0.038083538083538086, 0.036231884057971016, 0.019736842105263157, 0.02579132473622509, 0.03864734299516908, 0.0407725321888412, 0.0266497461928934, 0.026888604353393086, 0.032397408207343416, 0.03245192307692308, 0.025069637883008356, 0.010676156583629894, 0.022700119474313024, 0.0247074122236671, 0.016522988505747127, 0.03414634146341464, 0.025745257452574527, 0.024390243902439025, 0.05443548387096774, 0.0257201646090535, 0.03800786369593709, 0.0421792618629174, 0.03179824561403509, 0.024253731343283583, 0.01358695652173913, 0.022538552787663108, 0.02127659574468085, 0.03281027104136947, 0.03527336860670194, 0.035202086049543675, 0.01652892561983471, 0.031879194630872486, 0.015901060070671377, 0.029743589743589743, 0.029661016949152543, 0.03422619047619048, 0.03508771929824561, 0.03278688524590164, 0.03977272727272727, 0.03411513859275053, 0.025487256371814093, 0.022727272727272728, 0.025145067698259187, 0.009077155824508321]\n",
      "\n",
      "average recall: 0.03018007935628706\n"
     ]
    }
   ],
   "source": [
    "'''\n",
    "Testing for different recall values on different users with recommendations set to 50\n",
    "'''\n",
    "recalls = []\n",
    "for y in range(0, 100):\n",
    "    recommendations = model.recommend(y, test_data[y], filter_already_liked_items=True, recalculate_user=True, N=50)\n",
    "    ids = list(map(lambda x: item_ids[x], list(recommendations[0])))\n",
    "    recalls.append(evaluate_recall(ids, y+1))\n",
    "print('recalls: ' + str(recalls) + '\\n')\n",
    "print('average recall: ' + str(sum(recalls) / len(recalls)))\n"
   ]
  },
  {
   "cell_type": "code",
   "execution_count": 54,
   "id": "d273c968",
   "metadata": {},
   "outputs": [
    {
     "data": {
      "text/plain": [
       "<BarContainer object of 100 artists>"
      ]
     },
     "execution_count": 54,
     "metadata": {},
     "output_type": "execute_result"
    },
    {
     "data": {
      "image/png": "[encoded data removed]",
      "text/plain": [
       "<Figure size 432x288 with 1 Axes>"
      ]
     },
     "metadata": {
      "needs_background": "light"
     },
     "output_type": "display_data"
    }
   ],
   "source": [
    "plt.ylabel('Recall')\n",
    "plt.xlabel('User index')\n",
    "plt.bar([x for x in range(1, 101)], height=recalls, data=recalls)"
   ]
  },
  {
   "cell_type": "code",
   "execution_count": 51,
   "id": "b4eae110",
   "metadata": {},
   "outputs": [
    {
     "name": "stdout",
     "output_type": "stream",
     "text": [
      "recalls: [0.001594896331738437, 0.001594896331738437, 0.001594896331738437, 0.001594896331738437, 0.001594896331738437, 0.003189792663476874, 0.003189792663476874, 0.003189792663476874, 0.004784688995215311, 0.006379585326953748, 0.007974481658692184, 0.007974481658692184, 0.009569377990430622, 0.009569377990430622, 0.009569377990430622, 0.009569377990430622, 0.009569377990430622, 0.009569377990430622, 0.009569377990430622, 0.009569377990430622, 0.009569377990430622, 0.009569377990430622, 0.011164274322169059, 0.012759170653907496, 0.014354066985645933, 0.01594896331738437, 0.01594896331738437, 0.01594896331738437, 0.01594896331738437, 0.01594896331738437, 0.017543859649122806, 0.019138755980861243, 0.019138755980861243, 0.019138755980861243, 0.019138755980861243, 0.019138755980861243, 0.019138755980861243, 0.019138755980861243, 0.019138755980861243, 0.019138755980861243, 0.019138755980861243, 0.019138755980861243, 0.019138755980861243, 0.019138755980861243, 0.019138755980861243, 0.019138755980861243, 0.019138755980861243, 0.019138755980861243, 0.019138755980861243, 0.019138755980861243, 0.019138755980861243, 0.019138755980861243, 0.019138755980861243, 0.02073365231259968, 0.02073365231259968, 0.02073365231259968, 0.02073365231259968, 0.022328548644338118, 0.022328548644338118, 0.023923444976076555, 0.023923444976076555, 0.025518341307814992, 0.025518341307814992, 0.025518341307814992, 0.025518341307814992, 0.025518341307814992, 0.02711323763955343, 0.028708133971291867, 0.030303030303030304, 0.030303030303030304, 0.030303030303030304, 0.030303030303030304, 0.030303030303030304, 0.03189792663476874, 0.03349282296650718, 0.03349282296650718, 0.03349282296650718, 0.03349282296650718, 0.03508771929824561, 0.03508771929824561, 0.03668261562998405, 0.03668261562998405, 0.03668261562998405, 0.03668261562998405, 0.03668261562998405, 0.03668261562998405, 0.03668261562998405, 0.03668261562998405, 0.03668261562998405, 0.03827751196172249, 0.03827751196172249, 0.03827751196172249, 0.03987240829346093, 0.03987240829346093, 0.03987240829346093, 0.03987240829346093, 0.04146730462519936, 0.04146730462519936, 0.04146730462519936, 0.04146730462519936]\n",
      "\n",
      "average recall: 0.022137161084529487\n"
     ]
    }
   ],
   "source": [
    "'''\n",
    "Testing for different recall values on different recommendations for the same user\n",
    "'''\n",
    "recalls = []\n",
    "for x in range(1, 101):\n",
    "    recommendations = model.recommend(0, test_data[0], filter_already_liked_items=True, recalculate_user=True, N=x)\n",
    "    ids = list(map(lambda x: item_ids[x], list(recommendations[0])))\n",
    "    recalls.append(evaluate_recall(ids, 1))\n",
    "print('recalls: ' + str(recalls) + '\\n')\n",
    "print('average recall: ' + str(sum(recalls) / len(recalls)))\n"
   ]
  },
  {
   "cell_type": "code",
   "execution_count": 52,
   "id": "eada9554",
   "metadata": {},
   "outputs": [
    {
     "data": {
      "text/plain": [
       "<BarContainer object of 100 artists>"
      ]
     },
     "execution_count": 52,
     "metadata": {},
     "output_type": "execute_result"
    },
    {
     "data": {
      "image/png": "[encoded data removed]",
      "text/plain": [
       "<Figure size 432x288 with 1 Axes>"
      ]
     },
     "metadata": {
      "needs_background": "light"
     },
     "output_type": "display_data"
    }
   ],
   "source": [
    "plt.ylabel('Recall')\n",
    "plt.xlabel('Number of recommendations')\n",
    "plt.bar([x for x in range(1, 101)], height=recalls, data=recalls)"
   ]
  }
 ],
 "metadata": {
  "kernelspec": {
   "display_name": "Python 3 (ipykernel)",
   "language": "python",
   "name": "python3"
  },
  "language_info": {
   "codemirror_mode": {
    "name": "ipython",
    "version": 3
   },
   "file_extension": ".py",
   "mimetype": "text/x-python",
   "name": "python",
   "nbconvert_exporter": "python",
   "pygments_lexer": "ipython3",
   "version": "3.9.12"
  }
 },
 "nbformat": 4,
 "nbformat_minor": 5
}
